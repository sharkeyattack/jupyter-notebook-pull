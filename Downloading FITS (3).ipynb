{
 "cells": [
  {
   "cell_type": "code",
   "execution_count": 1,
   "id": "bda17c64",
   "metadata": {},
   "outputs": [],
   "source": [
    "from astropy.io import fits\n",
    "fits_image_filename = fits.util.get_testdata_filepath('test0.fits')\n",
    "\n",
    "hdul = fits.open(fits_image_filename)"
   ]
  },
  {
   "cell_type": "code",
   "execution_count": 2,
   "id": "965d14a6",
   "metadata": {},
   "outputs": [
    {
     "name": "stdout",
     "output_type": "stream",
     "text": [
      "Filename: /opt/anaconda3/lib/python3.9/site-packages/astropy/io/fits/tests/data/test0.fits\n",
      "No.    Name      Ver    Type      Cards   Dimensions   Format\n",
      "  0  PRIMARY       1 PrimaryHDU     138   ()      \n",
      "  1  SCI           1 ImageHDU        61   (40, 40)   int16   \n",
      "  2  SCI           2 ImageHDU        61   (40, 40)   int16   \n",
      "  3  SCI           3 ImageHDU        61   (40, 40)   int16   \n",
      "  4  SCI           4 ImageHDU        61   (40, 40)   int16   \n"
     ]
    }
   ],
   "source": [
    "hdul.info()"
   ]
  },
  {
   "cell_type": "code",
   "execution_count": 3,
   "id": "e177c5a7",
   "metadata": {},
   "outputs": [],
   "source": [
    "hdul.close()"
   ]
  },
  {
   "cell_type": "code",
   "execution_count": 4,
   "id": "8857ff33",
   "metadata": {},
   "outputs": [
    {
     "name": "stdout",
     "output_type": "stream",
     "text": [
      "Filename: /opt/anaconda3/lib/python3.9/site-packages/astropy/io/fits/tests/data/test0.fits\n",
      "No.    Name      Ver    Type      Cards   Dimensions   Format\n",
      "  0  PRIMARY       1 PrimaryHDU     138   ()      \n",
      "  1  SCI           1 ImageHDU        61   (40, 40)   int16   \n",
      "  2  SCI           2 ImageHDU        61   (40, 40)   int16   \n",
      "  3  SCI           3 ImageHDU        61   (40, 40)   int16   \n",
      "  4  SCI           4 ImageHDU        61   (40, 40)   int16   \n"
     ]
    }
   ],
   "source": [
    "with fits.open(fits_image_filename) as hdul:\n",
    "    hdul.info()"
   ]
  },
  {
   "cell_type": "code",
   "execution_count": 8,
   "id": "cf29373e",
   "metadata": {},
   "outputs": [],
   "source": [
    "with fits.open(fits_image_filename) as hdul:\n",
    "   hdul.verify('fix')\n",
    "   data = hdul[1].data"
   ]
  },
  {
   "cell_type": "code",
   "execution_count": 9,
   "id": "139caff1",
   "metadata": {},
   "outputs": [
    {
     "data": {
      "text/plain": [
       "'01/04/99'"
      ]
     },
     "execution_count": 9,
     "metadata": {},
     "output_type": "execute_result"
    }
   ],
   "source": [
    "hdul = fits.open(fits_image_filename)\n",
    "hdul[0].header['DATE']"
   ]
  },
  {
   "cell_type": "code",
   "execution_count": 10,
   "id": "a73adff3",
   "metadata": {},
   "outputs": [
    {
     "data": {
      "text/plain": [
       "32768.0"
      ]
     },
     "execution_count": 10,
     "metadata": {},
     "output_type": "execute_result"
    }
   ],
   "source": [
    "hdul[0].header[7]"
   ]
  },
  {
   "cell_type": "code",
   "execution_count": 11,
   "id": "c9f33cbe",
   "metadata": {},
   "outputs": [],
   "source": [
    "hdr = hdul[0].header\n",
    "hdr['targname'] = 'NGC121-a'\n",
    "hdr[27] = 99"
   ]
  },
  {
   "cell_type": "code",
   "execution_count": 12,
   "id": "73069fde",
   "metadata": {},
   "outputs": [
    {
     "data": {
      "text/plain": [
       "'the observation target'"
      ]
     },
     "execution_count": 12,
     "metadata": {},
     "output_type": "execute_result"
    }
   ],
   "source": [
    "hdr = hdul[0].header\n",
    "hdr['targname'] = ('NGC121-a', 'the observation target')\n",
    "hdr['targname']\n",
    "\n",
    "hdr.comments['targname']\n"
   ]
  },
  {
   "cell_type": "code",
   "execution_count": 13,
   "id": "ea4dc14f",
   "metadata": {},
   "outputs": [],
   "source": [
    "hdr.set('observer', 'Edwin Hubble')"
   ]
  },
  {
   "cell_type": "code",
   "execution_count": 14,
   "id": "42882555",
   "metadata": {},
   "outputs": [
    {
     "data": {
      "text/plain": [
       "Edwin Hubble really knew his stuff\n",
       "I like using HST observations"
      ]
     },
     "execution_count": 14,
     "metadata": {},
     "output_type": "execute_result"
    }
   ],
   "source": [
    "hdr['history'] = 'I updated this file 2/26/09'\n",
    "hdr['comment'] = 'Edwin Hubble really knew his stuff'\n",
    "hdr['comment'] = 'I like using HST observations'\n",
    "hdr['history']\n",
    "\n",
    "hdr['comment']\n"
   ]
  },
  {
   "cell_type": "code",
   "execution_count": 15,
   "id": "5abbc83f",
   "metadata": {},
   "outputs": [
    {
     "data": {
      "text/plain": [
       "Edwin Hubble really knew his stuff\n",
       "I like using JWST observations"
      ]
     },
     "execution_count": 15,
     "metadata": {},
     "output_type": "execute_result"
    }
   ],
   "source": [
    "hdr['history'][0] = 'I updated this file on 2/27/09'\n",
    "hdr['history']\n",
    "\n",
    "hdr['comment'][1] = 'I like using JWST observations'\n",
    "hdr['comment']\n"
   ]
  },
  {
   "cell_type": "code",
   "execution_count": 16,
   "id": "88ea4e7f",
   "metadata": {},
   "outputs": [
    {
     "name": "stdout",
     "output_type": "stream",
     "text": [
      "SIMPLE  =                    T / file does conform to FITS standard             \n",
      "BITPIX  =                   16 / number of bits per data pixel                  \n",
      "NAXIS   =                    0 / number of data axes                            \n",
      "EXTEND  =                    T / FITS dataset may contain extensions            \n",
      "GROUPS  =                    F / data has groups                                \n",
      "NEXTEND =                    4 / Number of standard extensions                  \n",
      "BSCALE  =           1.000000E0 / REAL = TAPE*BSCALE + BZERO                     \n",
      "BZERO   =           3.276800E4 /                                                \n",
      "ORIGIN  = 'NOAO-IRAF FITS Image Kernel Aug 1 1997' / FITS file originator       \n",
      "DATE    = '01/04/99  '         / Date FITS file was generated                   \n",
      "IRAF-TLM= 'xxx     '              / Time of last modification                   \n",
      "                                                                                \n",
      "              / GROUP PARAMETERS: OSS                                           \n",
      "                                                                                \n",
      "              / GROUP PARAMETERS: PODPS                                         \n",
      "                                                                                \n",
      "              / GROUP PARAMETERS: DATA QUALITY FILE SUMMARY                     \n",
      "                                                                                \n",
      "              / GROUP PARAMETERS: PHOTOMETRY                                    \n",
      "                                                                                \n",
      "              / GROUP PARAMETERS: IMAGE STATISTICS                              \n",
      "                                                                                \n",
      "              / WFPC-II DATA DESCRIPTOR KEYWORDS                                \n",
      "INSTRUME= 'WFPC2             ' / identifier for instrument used to acquire data \n",
      "ROOTNAME= 'U2EQ0201T         ' / rootname of the observation set                \n",
      "FILETYPE= 'SCI               ' / shp, ext, edq, sdq, sci                        \n",
      "                                                                                \n",
      "        99                                                                      \n",
      "MODE    = 'AREA              ' / instr. mode: FULL (full res.), AREA (area int.)\n",
      "SERIALS = 'OFF               ' / serial clocks: ON, OFF                         \n",
      "                                                                                \n",
      "              / IMAGE TYPE CHARACTERISTICS                                      \n",
      "IMAGETYP= 'EXT               ' / type of exposure identifier                    \n",
      "CDBSFILE= 'NO                ' / GENERIC/BIAS/DARK/PREF/FLAT/MASK/ATOD/NO       \n",
      "PKTFMT  =                   96 / packet format code                             \n",
      "                                                                                \n",
      "              / FILTER CONFIGURATION                                            \n",
      "FILTNAM1= 'F673N             ' / first filter name                              \n",
      "FILTNAM2= '                  ' / 2nd    filter name                             \n",
      "FILTER1 =                   33 / first filter number (0-48)                     \n",
      "FILTER2 =                    0 / second filter number (0-48)                    \n",
      "FILTROT =             0.000000 / partial filter rotation angle (degrees)        \n",
      "LRFWAVE =                  0.0 / linear ramp filter wavelength                  \n",
      "                                                                                \n",
      "              / INSTRUMENT STATUS USED IN DATA PROCESSING                       \n",
      "UCH1CJTM=             -88.3486 / TEC cold junction #1 temperature (Celsius)     \n",
      "UCH2CJTM=             -88.8073 / TEC cold junction #2 temperature (Celsius)     \n",
      "UCH3CJTM=             -88.3945 / TEC cold junction #3 temperature (Celsius)     \n",
      "UCH4CJTM=             -88.9041 / TEC cold junction #4 temperature (Celsius)     \n",
      "UBAY3TMP=              14.5969 / bay 3 A1 temperature (deg C)                   \n",
      "KSPOTS  = 'OFF               ' / Status of Kelsall spot lamps: ON, OFF          \n",
      "SHUTTER = 'B                 ' / Shutter in place at beginning of the exposure  \n",
      "ATODGAIN=                  7.0 / Analog to Digital Gain (Electrons/DN)          \n",
      "                                                                                \n",
      "              / RSDP CONTROL KEYWORDS                                           \n",
      "MASKCORR= 'PERFORM           ' / Do mask correction: PERFORM, OMIT, COMPLETE    \n",
      "ATODCORR= 'PERFORM           ' / Do A-to-D correction: PERFORM, OMIT, COMPLETE  \n",
      "BLEVCORR= 'PERFORM           ' / Do bias level correction                       \n",
      "BIASCORR= 'PERFORM           ' / Do bias correction: PERFORM, OMIT, COMPLETE    \n",
      "DARKCORR= 'OMIT              ' / Do dark correction: PERFORM, OMIT, COMPLETE    \n",
      "FLATCORR= 'PERFORM           ' / Do flat field correction                       \n",
      "SHADCORR= 'PERFORM           ' / Do shaded shutter correction                   \n",
      "DOSATMAP= 'OMIT              ' / Output saturated pixel map                     \n",
      "DOPHOTOM= 'PERFORM           ' / Fill photometry keywords                       \n",
      "DOHISTOS= 'OMIT              ' / Make histograms: PERFORM, OMIT, COMPLETE       \n",
      "OUTDTYPE= 'REAL              ' / Output image datatype: REAL, LONG, SHORT       \n",
      "                                                                                \n",
      "              / CALIBRATION REFERENCE FILES                                     \n",
      "MASKFILE= 'uref$fan15478u.r0h' / name of the input DQF of known bad pixels      \n",
      "ATODFILE= 'uref$e1b09594u.r1h' / name of the A-to-D conversion file             \n",
      "BLEVFILE= 'ucal$u2eq0201t.x0h' / Engineering file with extended register data   \n",
      "BLEVDFIL= 'ucal$u2eq0201t.q1h' / Engineering file DQF                           \n",
      "BIASFILE= 'uref$e6o0937du.r2h' / name of the bias frame reference file          \n",
      "BIASDFIL= 'uref$e6o0937du.b2h' / name of the bias frame reference DQF           \n",
      "DARKFILE= 'uref$e6o09384u.r3h' / name of the dark reference file                \n",
      "DARKDFIL= 'uref$e6o09384u.b3h' / name of the dark reference DQF                 \n",
      "FLATFILE= 'uref$e1c1404ju.r4h' / name of the flat field reference file          \n",
      "FLATDFIL= 'uref$e1c1404ju.b4h' / name of the flat field reference DQF           \n",
      "SHADFILE= 'uref$e6o09405u.r5h' / name of the reference file for shutter shading \n",
      "PHOTTAB = '                  ' / name of the photometry calibration table       \n",
      "GRAPHTAB= 'mtab$f7d1401pm.tmg' / the HST graph table                            \n",
      "COMPTAB = 'mtab$f7j1535pm.tmc' / the HST components table                       \n",
      "                                                                                \n",
      "              / DEFAULT KEYWORDS SET BY STSCI                                   \n",
      "SATURATE=                 4095 / Data value at which saturation occurs          \n",
      "USCALE  =                  1.0 / Scale factor for output image                  \n",
      "UZERO   =                  0.0 / Zero point for output image                    \n",
      "                                                                                \n",
      "              / READOUT DURATION INFORMATION                                    \n",
      "READTIME=                  151 / Length of time for CCD readout in clock ticks  \n",
      "                                                                                \n",
      "              / PLANETARY SCIENCE KEYWORDS                                      \n",
      "PA_V3   =        292.387786865 / position angle of v3 of HST (deg)              \n",
      "RA_SUN  =        56.2731208362 / right ascension of the sun (deg)               \n",
      "DEC_SUN =        19.8289107164 / declination of the sun (deg)                   \n",
      "EQNX_SUN=               2000.0 / equinox of the sun                             \n",
      "MTFLAG  =                    T / moving target flag; T if it is a moving target \n",
      "EQRADTRG=                  0.0 / equatorial radius of target (km)               \n",
      "FLATNTRG=                  0.0 / flattening of target                           \n",
      "NPDECTRG=                  0.0 / north pole declination of target (deg)         \n",
      "NPRATRG =                  0.0 / north pole right ascension of target (deg)     \n",
      "ROTRTTRG=                  0.0 / rotation rate of target                        \n",
      "LONGPMER=                  0.0 / longitude of prime meridian (deg)              \n",
      "EPLONGPM=                  0.0 / epoch of longitude of prime meridian (sec)     \n",
      "SURFLATD=                  0.0 / surface feature latitude (deg)                 \n",
      "SURFLONG=                  0.0 / surface feature longitude (deg)                \n",
      "SURFALTD=                  0.0 / surface feature altitude (km)                  \n",
      "                                                                                \n",
      "              / PODPS FILL VALUES                                               \n",
      "PODPSFF =                    F / podps fill present (T/F)                       \n",
      "STDCFFF =                    F / ST DDF fill present (T/F)                      \n",
      "STDCFFP = '0x5569            ' / ST DDF fill pattern (hex)                      \n",
      "RSDPFILL=                 -100 / bad data fill value for calibrated images      \n",
      "                                                                                \n",
      "              / EXPOSURE TIME AND RELATED INFORMATION                           \n",
      "UEXPODUR=                    0 / commanded duration of exposure (sec)           \n",
      "NSHUTA17=                    0 / Number of AP17 shutter B closes                \n",
      "DARKTIME=   2.300000000000E-01 / Dark time (seconds)                            \n",
      "UEXPOTIM=                20272 / Major frame pulse time preceding exposure start\n",
      "PSTRTIME= '1994.139:15:41:39 ' / predicted obs. start time (yyyy.ddd:hh:mm:ss)  \n",
      "PSTPTIME= '1994.139:16:14:39 ' / predicted obs. stop time (yyyy.ddd:hh:mm:ss)   \n",
      "                                                                                \n",
      "                                                                                \n",
      "              / EXPOSURE INFORMATION                                            \n",
      "                                                                                \n",
      "ORIENTAT=              157.076 / position angle of image y axis (deg. e of n)   \n",
      "SUNANGLE=           158.939133 / angle between sun and V1 axis (deg)            \n",
      "MOONANGL=            54.995346 / angle between moon and V1 axis                 \n",
      "SUN_ALT =           -11.552458 / altitude of the sun above Earth's limb         \n",
      "FGSLOCK = 'FINE              ' / commanded FGS lock (FINE,COARSE,GYROS,UNKNOWN) \n",
      "                                                                                \n",
      "DATE-OBS= '19/05/94          ' / UT date of start of observation (dd/mm/yy)     \n",
      "TIME-OBS= '15:41:16          ' / UT time of start of observation (hh:mm:ss)     \n",
      "EXPSTART=   4.949165366175E+04 / exposure start time (Modified Julian Date)     \n",
      "EXPEND  =   4.949165366441E+04 / exposure end time (Modified Julian Date)       \n",
      "EXPTIME =   2.300000000000E-01 / exposure duration (seconds)--calculated        \n",
      "EXPFLAG = 'NORMAL            ' / Exposure interruption indicator                \n",
      "FILENAME= 'vtest3.fits'        / File name                                      \n",
      "TARGNAME= 'NGC121-a'           / the observation target                         \n",
      "OBSERVER= 'Edwin Hubble'                                                        \n",
      "HISTORY I updated this file on 2/27/09                                          \n",
      "COMMENT Edwin Hubble really knew his stuff                                      \n",
      "COMMENT I like using JWST observations                                          \n"
     ]
    }
   ],
   "source": [
    "hdr  \n",
    "\n",
    "\n",
    "\n",
    "\n",
    "print(repr(hdr)) "
   ]
  },
  {
   "cell_type": "code",
   "execution_count": 17,
   "id": "66839236",
   "metadata": {},
   "outputs": [
    {
     "data": {
      "text/plain": [
       "SIMPLE  =                    T / file does conform to FITS standard             \n",
       "BITPIX  =                   16 / number of bits per data pixel                  "
      ]
     },
     "execution_count": 17,
     "metadata": {},
     "output_type": "execute_result"
    }
   ],
   "source": [
    "hdr[:2]"
   ]
  },
  {
   "cell_type": "code",
   "execution_count": 18,
   "id": "17855a99",
   "metadata": {},
   "outputs": [
    {
     "data": {
      "text/plain": [
       "['SIMPLE',\n",
       " 'BITPIX',\n",
       " 'NAXIS',\n",
       " 'EXTEND',\n",
       " 'GROUPS',\n",
       " 'NEXTEND',\n",
       " 'BSCALE',\n",
       " 'BZERO',\n",
       " 'ORIGIN',\n",
       " 'DATE',\n",
       " 'IRAF-TLM',\n",
       " '',\n",
       " '',\n",
       " '',\n",
       " '',\n",
       " '',\n",
       " '',\n",
       " '',\n",
       " '',\n",
       " '',\n",
       " '',\n",
       " '',\n",
       " '',\n",
       " 'INSTRUME',\n",
       " 'ROOTNAME',\n",
       " 'FILETYPE',\n",
       " '',\n",
       " '',\n",
       " 'MODE',\n",
       " 'SERIALS',\n",
       " '',\n",
       " '',\n",
       " 'IMAGETYP',\n",
       " 'CDBSFILE',\n",
       " 'PKTFMT',\n",
       " '',\n",
       " '',\n",
       " 'FILTNAM1',\n",
       " 'FILTNAM2',\n",
       " 'FILTER1',\n",
       " 'FILTER2',\n",
       " 'FILTROT',\n",
       " 'LRFWAVE',\n",
       " '',\n",
       " '',\n",
       " 'UCH1CJTM',\n",
       " 'UCH2CJTM',\n",
       " 'UCH3CJTM',\n",
       " 'UCH4CJTM',\n",
       " 'UBAY3TMP',\n",
       " 'KSPOTS',\n",
       " 'SHUTTER',\n",
       " 'ATODGAIN',\n",
       " '',\n",
       " '',\n",
       " 'MASKCORR',\n",
       " 'ATODCORR',\n",
       " 'BLEVCORR',\n",
       " 'BIASCORR',\n",
       " 'DARKCORR',\n",
       " 'FLATCORR',\n",
       " 'SHADCORR',\n",
       " 'DOSATMAP',\n",
       " 'DOPHOTOM',\n",
       " 'DOHISTOS',\n",
       " 'OUTDTYPE',\n",
       " '',\n",
       " '',\n",
       " 'MASKFILE',\n",
       " 'ATODFILE',\n",
       " 'BLEVFILE',\n",
       " 'BLEVDFIL',\n",
       " 'BIASFILE',\n",
       " 'BIASDFIL',\n",
       " 'DARKFILE',\n",
       " 'DARKDFIL',\n",
       " 'FLATFILE',\n",
       " 'FLATDFIL',\n",
       " 'SHADFILE',\n",
       " 'PHOTTAB',\n",
       " 'GRAPHTAB',\n",
       " 'COMPTAB',\n",
       " '',\n",
       " '',\n",
       " 'SATURATE',\n",
       " 'USCALE',\n",
       " 'UZERO',\n",
       " '',\n",
       " '',\n",
       " 'READTIME',\n",
       " '',\n",
       " '',\n",
       " 'PA_V3',\n",
       " 'RA_SUN',\n",
       " 'DEC_SUN',\n",
       " 'EQNX_SUN',\n",
       " 'MTFLAG',\n",
       " 'EQRADTRG',\n",
       " 'FLATNTRG',\n",
       " 'NPDECTRG',\n",
       " 'NPRATRG',\n",
       " 'ROTRTTRG',\n",
       " 'LONGPMER',\n",
       " 'EPLONGPM',\n",
       " 'SURFLATD',\n",
       " 'SURFLONG',\n",
       " 'SURFALTD',\n",
       " '',\n",
       " '',\n",
       " 'PODPSFF',\n",
       " 'STDCFFF',\n",
       " 'STDCFFP',\n",
       " 'RSDPFILL',\n",
       " '',\n",
       " '',\n",
       " 'UEXPODUR',\n",
       " 'NSHUTA17',\n",
       " 'DARKTIME',\n",
       " 'UEXPOTIM',\n",
       " 'PSTRTIME',\n",
       " 'PSTPTIME',\n",
       " '',\n",
       " '',\n",
       " '',\n",
       " '',\n",
       " 'ORIENTAT',\n",
       " 'SUNANGLE',\n",
       " 'MOONANGL',\n",
       " 'SUN_ALT',\n",
       " 'FGSLOCK',\n",
       " '',\n",
       " 'DATE-OBS',\n",
       " 'TIME-OBS',\n",
       " 'EXPSTART',\n",
       " 'EXPEND',\n",
       " 'EXPTIME',\n",
       " 'EXPFLAG',\n",
       " 'FILENAME',\n",
       " 'TARGNAME',\n",
       " 'OBSERVER',\n",
       " 'HISTORY',\n",
       " 'COMMENT',\n",
       " 'COMMENT']"
      ]
     },
     "execution_count": 18,
     "metadata": {},
     "output_type": "execute_result"
    }
   ],
   "source": [
    "list(hdr.keys())"
   ]
  },
  {
   "cell_type": "code",
   "execution_count": 19,
   "id": "0d58e4e2",
   "metadata": {},
   "outputs": [],
   "source": [
    "data = hdul[1].data"
   ]
  },
  {
   "cell_type": "code",
   "execution_count": 20,
   "id": "c581caed",
   "metadata": {},
   "outputs": [],
   "source": [
    "data = hdul['SCI'].data"
   ]
  },
  {
   "cell_type": "code",
   "execution_count": 21,
   "id": "aad7f308",
   "metadata": {},
   "outputs": [],
   "source": [
    "data = hdul['sci',2].data"
   ]
  },
  {
   "cell_type": "code",
   "execution_count": 22,
   "id": "37fe406d",
   "metadata": {},
   "outputs": [
    {
     "data": {
      "text/plain": [
       "'int16'"
      ]
     },
     "execution_count": 22,
     "metadata": {},
     "output_type": "execute_result"
    }
   ],
   "source": [
    "data.shape\n",
    "\n",
    "data.dtype.name"
   ]
  },
  {
   "cell_type": "code",
   "execution_count": 23,
   "id": "b3354b8b",
   "metadata": {},
   "outputs": [
    {
     "data": {
      "text/plain": [
       "(40, 40)"
      ]
     },
     "execution_count": 23,
     "metadata": {},
     "output_type": "execute_result"
    }
   ],
   "source": [
    "data.shape"
   ]
  },
  {
   "cell_type": "code",
   "execution_count": 24,
   "id": "9c4135f8",
   "metadata": {},
   "outputs": [
    {
     "name": "stdout",
     "output_type": "stream",
     "text": [
      "348\n"
     ]
    }
   ],
   "source": [
    "print(data[1, 4])"
   ]
  },
  {
   "cell_type": "code",
   "execution_count": 25,
   "id": "103bcaf1",
   "metadata": {},
   "outputs": [
    {
     "data": {
      "text/plain": [
       "array([[350, 349, 349, 348, 349, 348, 349, 347, 350, 348],\n",
       "       [348, 348, 348, 349, 348, 349, 347, 348, 348, 349],\n",
       "       [348, 348, 347, 349, 348, 348, 349, 349, 349, 349],\n",
       "       [349, 348, 349, 349, 350, 349, 349, 347, 348, 348],\n",
       "       [348, 348, 348, 348, 349, 348, 350, 349, 348, 349],\n",
       "       [348, 347, 349, 349, 350, 348, 349, 348, 349, 347],\n",
       "       [347, 348, 347, 348, 349, 349, 350, 349, 348, 348],\n",
       "       [349, 349, 350, 348, 350, 347, 349, 349, 349, 348],\n",
       "       [349, 348, 348, 348, 348, 348, 349, 347, 349, 348],\n",
       "       [349, 349, 349, 348, 350, 349, 349, 350, 348, 350]], dtype=int16)"
      ]
     },
     "execution_count": 25,
     "metadata": {},
     "output_type": "execute_result"
    }
   ],
   "source": [
    "data[30:40, 10:20]"
   ]
  },
  {
   "cell_type": "code",
   "execution_count": 26,
   "id": "1a452548",
   "metadata": {},
   "outputs": [],
   "source": [
    "data[30:40, 10:20] = data[1, 4] = 999"
   ]
  },
  {
   "cell_type": "code",
   "execution_count": 27,
   "id": "a427e713",
   "metadata": {},
   "outputs": [],
   "source": [
    "photflam = hdul[1].header['photflam']\n",
    "exptime = hdr['exptime']\n",
    "data = data * photflam / exptime\n",
    "hdul.close()"
   ]
  },
  {
   "cell_type": "code",
   "execution_count": 28,
   "id": "37a46ffe",
   "metadata": {},
   "outputs": [],
   "source": [
    "fits_table_filename = fits.util.get_testdata_filepath('tb.fits')\n",
    "hdul = fits.open(fits_table_filename)\n",
    "data = hdul[1].data # assuming the first extension is a table\n",
    "hdul.close()"
   ]
  },
  {
   "cell_type": "code",
   "execution_count": 29,
   "id": "9dee7162",
   "metadata": {},
   "outputs": [
    {
     "name": "stdout",
     "output_type": "stream",
     "text": [
      "(1, 'abc', 3.7000000715255736, False)\n"
     ]
    }
   ],
   "source": [
    "print(data[0])"
   ]
  },
  {
   "cell_type": "code",
   "execution_count": 30,
   "id": "25b67b79",
   "metadata": {},
   "outputs": [
    {
     "data": {
      "text/plain": [
       "array([1, 2], dtype=int32)"
      ]
     },
     "execution_count": 30,
     "metadata": {},
     "output_type": "execute_result"
    }
   ],
   "source": [
    "data.field(0)"
   ]
  },
  {
   "cell_type": "code",
   "execution_count": 31,
   "id": "52c28061",
   "metadata": {},
   "outputs": [
    {
     "data": {
      "text/plain": [
       "array([1, 2], dtype=int32)"
      ]
     },
     "execution_count": 31,
     "metadata": {},
     "output_type": "execute_result"
    }
   ],
   "source": [
    "data.field('c1')"
   ]
  },
  {
   "cell_type": "code",
   "execution_count": 32,
   "id": "3bdf5d21",
   "metadata": {},
   "outputs": [
    {
     "data": {
      "text/plain": [
       "array([1, 2], dtype=int32)"
      ]
     },
     "execution_count": 32,
     "metadata": {},
     "output_type": "execute_result"
    }
   ],
   "source": [
    "data['c1']"
   ]
  },
  {
   "cell_type": "code",
   "execution_count": 33,
   "id": "24ec1128",
   "metadata": {},
   "outputs": [],
   "source": [
    "cols = hdul[1].columns"
   ]
  },
  {
   "cell_type": "code",
   "execution_count": 34,
   "id": "fef6b7bb",
   "metadata": {},
   "outputs": [
    {
     "name": "stdout",
     "output_type": "stream",
     "text": [
      "name:\n",
      "    ['c1', 'c2', 'c3', 'c4']\n",
      "format:\n",
      "    ['1J', '3A', '1E', '1L']\n",
      "unit:\n",
      "    ['', '', '', '']\n",
      "null:\n",
      "    [-2147483647, '', '', '']\n",
      "bscale:\n",
      "    ['', '', 3, '']\n",
      "bzero:\n",
      "    ['', '', 0.4, '']\n",
      "disp:\n",
      "    ['I11', 'A3', 'G15.7', 'L6']\n",
      "start:\n",
      "    ['', '', '', '']\n",
      "dim:\n",
      "    ['', '', '', '']\n",
      "coord_type:\n",
      "    ['', '', '', '']\n",
      "coord_unit:\n",
      "    ['', '', '', '']\n",
      "coord_ref_point:\n",
      "    ['', '', '', '']\n",
      "coord_ref_value:\n",
      "    ['', '', '', '']\n",
      "coord_inc:\n",
      "    ['', '', '', '']\n",
      "time_ref_pos:\n",
      "    ['', '', '', '']\n"
     ]
    }
   ],
   "source": [
    "cols.info()"
   ]
  },
  {
   "cell_type": "code",
   "execution_count": 35,
   "id": "40c4add2",
   "metadata": {},
   "outputs": [
    {
     "data": {
      "text/plain": [
       "ColDefs(\n",
       "    name = 'c1'; format = '1J'; null = -2147483647; disp = 'I11'\n",
       "    name = 'c2'; format = '3A'; disp = 'A3'\n",
       "    name = 'c3'; format = '1E'; bscale = 3; bzero = 0.4; disp = 'G15.7'\n",
       "    name = 'c4'; format = '1L'; disp = 'L6'\n",
       ")"
      ]
     },
     "execution_count": 35,
     "metadata": {},
     "output_type": "execute_result"
    }
   ],
   "source": [
    "hdul[1].columns"
   ]
  },
  {
   "cell_type": "code",
   "execution_count": 36,
   "id": "2d457116",
   "metadata": {},
   "outputs": [
    {
     "data": {
      "text/plain": [
       "['c1', 'c2', 'c3', 'c4']"
      ]
     },
     "execution_count": 36,
     "metadata": {},
     "output_type": "execute_result"
    }
   ],
   "source": [
    "cols.names"
   ]
  },
  {
   "cell_type": "code",
   "execution_count": 37,
   "id": "015530b2",
   "metadata": {},
   "outputs": [],
   "source": [
    "data['c4'][:] = 0"
   ]
  },
  {
   "cell_type": "code",
   "execution_count": 38,
   "id": "b6a61eb9",
   "metadata": {},
   "outputs": [
    {
     "data": {
      "text/plain": [
       "5.19999989271164"
      ]
     },
     "execution_count": 38,
     "metadata": {},
     "output_type": "execute_result"
    }
   ],
   "source": [
    "data['c3'].mean()  "
   ]
  },
  {
   "cell_type": "code",
   "execution_count": 39,
   "id": "2bca7984",
   "metadata": {},
   "outputs": [
    {
     "ename": "ValueError",
     "evalue": "I/O operation on closed file",
     "output_type": "error",
     "traceback": [
      "\u001b[0;31m---------------------------------------------------------------------------\u001b[0m",
      "\u001b[0;31mValueError\u001b[0m                                Traceback (most recent call last)",
      "\u001b[0;32m/var/folders/xj/0mk4jn0d0x1dh7w33nl5g1740000gp/T/ipykernel_31130/408022350.py\u001b[0m in \u001b[0;36m<module>\u001b[0;34m\u001b[0m\n\u001b[0;32m----> 1\u001b[0;31m \u001b[0mhdul\u001b[0m\u001b[0;34m.\u001b[0m\u001b[0mwriteto\u001b[0m\u001b[0;34m(\u001b[0m\u001b[0;34m'newtable.fits'\u001b[0m\u001b[0;34m)\u001b[0m\u001b[0;34m\u001b[0m\u001b[0;34m\u001b[0m\u001b[0m\n\u001b[0m",
      "\u001b[0;32m/opt/anaconda3/lib/python3.9/site-packages/astropy/io/fits/hdu/hdulist.py\u001b[0m in \u001b[0;36mwriteto\u001b[0;34m(self, fileobj, output_verify, overwrite, checksum)\u001b[0m\n\u001b[1;32m    947\u001b[0m             \u001b[0;32mfor\u001b[0m \u001b[0mhdu\u001b[0m \u001b[0;32min\u001b[0m \u001b[0mself\u001b[0m\u001b[0;34m:\u001b[0m\u001b[0;34m\u001b[0m\u001b[0;34m\u001b[0m\u001b[0m\n\u001b[1;32m    948\u001b[0m                 \u001b[0mhdu\u001b[0m\u001b[0;34m.\u001b[0m\u001b[0m_prewriteto\u001b[0m\u001b[0;34m(\u001b[0m\u001b[0mchecksum\u001b[0m\u001b[0;34m=\u001b[0m\u001b[0mchecksum\u001b[0m\u001b[0;34m)\u001b[0m\u001b[0;34m\u001b[0m\u001b[0;34m\u001b[0m\u001b[0m\n\u001b[0;32m--> 949\u001b[0;31m                 \u001b[0mhdu\u001b[0m\u001b[0;34m.\u001b[0m\u001b[0m_writeto\u001b[0m\u001b[0;34m(\u001b[0m\u001b[0mhdulist\u001b[0m\u001b[0;34m.\u001b[0m\u001b[0m_file\u001b[0m\u001b[0;34m)\u001b[0m\u001b[0;34m\u001b[0m\u001b[0;34m\u001b[0m\u001b[0m\n\u001b[0m\u001b[1;32m    950\u001b[0m                 \u001b[0mhdu\u001b[0m\u001b[0;34m.\u001b[0m\u001b[0m_postwriteto\u001b[0m\u001b[0;34m(\u001b[0m\u001b[0;34m)\u001b[0m\u001b[0;34m\u001b[0m\u001b[0;34m\u001b[0m\u001b[0m\n\u001b[1;32m    951\u001b[0m         \u001b[0mhdulist\u001b[0m\u001b[0;34m.\u001b[0m\u001b[0mclose\u001b[0m\u001b[0;34m(\u001b[0m\u001b[0moutput_verify\u001b[0m\u001b[0;34m=\u001b[0m\u001b[0moutput_verify\u001b[0m\u001b[0;34m,\u001b[0m \u001b[0mclosed\u001b[0m\u001b[0;34m=\u001b[0m\u001b[0mclosed\u001b[0m\u001b[0;34m)\u001b[0m\u001b[0;34m\u001b[0m\u001b[0;34m\u001b[0m\u001b[0m\n",
      "\u001b[0;32m/opt/anaconda3/lib/python3.9/site-packages/astropy/io/fits/hdu/base.py\u001b[0m in \u001b[0;36m_writeto\u001b[0;34m(self, fileobj, inplace, copy)\u001b[0m\n\u001b[1;32m    679\u001b[0m \u001b[0;34m\u001b[0m\u001b[0m\n\u001b[1;32m    680\u001b[0m         \u001b[0;32mwith\u001b[0m \u001b[0m_free_space_check\u001b[0m\u001b[0;34m(\u001b[0m\u001b[0mself\u001b[0m\u001b[0;34m,\u001b[0m \u001b[0mdirname\u001b[0m\u001b[0;34m)\u001b[0m\u001b[0;34m:\u001b[0m\u001b[0;34m\u001b[0m\u001b[0;34m\u001b[0m\u001b[0m\n\u001b[0;32m--> 681\u001b[0;31m             \u001b[0mself\u001b[0m\u001b[0;34m.\u001b[0m\u001b[0m_writeto_internal\u001b[0m\u001b[0;34m(\u001b[0m\u001b[0mfileobj\u001b[0m\u001b[0;34m,\u001b[0m \u001b[0minplace\u001b[0m\u001b[0;34m,\u001b[0m \u001b[0mcopy\u001b[0m\u001b[0;34m)\u001b[0m\u001b[0;34m\u001b[0m\u001b[0;34m\u001b[0m\u001b[0m\n\u001b[0m\u001b[1;32m    682\u001b[0m \u001b[0;34m\u001b[0m\u001b[0m\n\u001b[1;32m    683\u001b[0m     \u001b[0;32mdef\u001b[0m \u001b[0m_writeto_internal\u001b[0m\u001b[0;34m(\u001b[0m\u001b[0mself\u001b[0m\u001b[0;34m,\u001b[0m \u001b[0mfileobj\u001b[0m\u001b[0;34m,\u001b[0m \u001b[0minplace\u001b[0m\u001b[0;34m,\u001b[0m \u001b[0mcopy\u001b[0m\u001b[0;34m)\u001b[0m\u001b[0;34m:\u001b[0m\u001b[0;34m\u001b[0m\u001b[0;34m\u001b[0m\u001b[0m\n",
      "\u001b[0;32m/opt/anaconda3/lib/python3.9/site-packages/astropy/io/fits/hdu/base.py\u001b[0m in \u001b[0;36m_writeto_internal\u001b[0;34m(self, fileobj, inplace, copy)\u001b[0m\n\u001b[1;32m    685\u001b[0m         \u001b[0;32mif\u001b[0m \u001b[0;32mnot\u001b[0m \u001b[0minplace\u001b[0m \u001b[0;32mor\u001b[0m \u001b[0mself\u001b[0m\u001b[0;34m.\u001b[0m\u001b[0m_new\u001b[0m\u001b[0;34m:\u001b[0m\u001b[0;34m\u001b[0m\u001b[0;34m\u001b[0m\u001b[0m\n\u001b[1;32m    686\u001b[0m             \u001b[0mheader_offset\u001b[0m\u001b[0;34m,\u001b[0m \u001b[0m_\u001b[0m \u001b[0;34m=\u001b[0m \u001b[0mself\u001b[0m\u001b[0;34m.\u001b[0m\u001b[0m_writeheader\u001b[0m\u001b[0;34m(\u001b[0m\u001b[0mfileobj\u001b[0m\u001b[0;34m)\u001b[0m\u001b[0;34m\u001b[0m\u001b[0;34m\u001b[0m\u001b[0m\n\u001b[0;32m--> 687\u001b[0;31m             \u001b[0mdata_offset\u001b[0m\u001b[0;34m,\u001b[0m \u001b[0mdata_size\u001b[0m \u001b[0;34m=\u001b[0m \u001b[0mself\u001b[0m\u001b[0;34m.\u001b[0m\u001b[0m_writedata\u001b[0m\u001b[0;34m(\u001b[0m\u001b[0mfileobj\u001b[0m\u001b[0;34m)\u001b[0m\u001b[0;34m\u001b[0m\u001b[0;34m\u001b[0m\u001b[0m\n\u001b[0m\u001b[1;32m    688\u001b[0m \u001b[0;34m\u001b[0m\u001b[0m\n\u001b[1;32m    689\u001b[0m             \u001b[0;31m# Set the various data location attributes on newly-written HDUs\u001b[0m\u001b[0;34m\u001b[0m\u001b[0;34m\u001b[0m\u001b[0m\n",
      "\u001b[0;32m/opt/anaconda3/lib/python3.9/site-packages/astropy/io/fits/hdu/base.py\u001b[0m in \u001b[0;36m_writedata\u001b[0;34m(self, fileobj)\u001b[0m\n\u001b[1;32m    631\u001b[0m             \u001b[0;31m# rescaled, so it can be copied, unmodified, directly from an\u001b[0m\u001b[0;34m\u001b[0m\u001b[0;34m\u001b[0m\u001b[0m\n\u001b[1;32m    632\u001b[0m             \u001b[0;31m# existing file or buffer\u001b[0m\u001b[0;34m\u001b[0m\u001b[0;34m\u001b[0m\u001b[0m\n\u001b[0;32m--> 633\u001b[0;31m             \u001b[0msize\u001b[0m \u001b[0;34m+=\u001b[0m \u001b[0mself\u001b[0m\u001b[0;34m.\u001b[0m\u001b[0m_writedata_direct_copy\u001b[0m\u001b[0;34m(\u001b[0m\u001b[0mfileobj\u001b[0m\u001b[0;34m)\u001b[0m\u001b[0;34m\u001b[0m\u001b[0;34m\u001b[0m\u001b[0m\n\u001b[0m\u001b[1;32m    634\u001b[0m \u001b[0;34m\u001b[0m\u001b[0m\n\u001b[1;32m    635\u001b[0m         \u001b[0;31m# flush, to make sure the content is written\u001b[0m\u001b[0;34m\u001b[0m\u001b[0;34m\u001b[0m\u001b[0m\n",
      "\u001b[0;32m/opt/anaconda3/lib/python3.9/site-packages/astropy/io/fits/hdu/base.py\u001b[0m in \u001b[0;36m_writedata_direct_copy\u001b[0;34m(self, fileobj)\u001b[0m\n\u001b[1;32m    661\u001b[0m         \u001b[0mIf\u001b[0m \u001b[0mthis\u001b[0m \u001b[0mproves\u001b[0m \u001b[0mtoo\u001b[0m \u001b[0mslow\u001b[0m \u001b[0ma\u001b[0m \u001b[0mmore\u001b[0m \u001b[0mdirect\u001b[0m \u001b[0mapproach\u001b[0m \u001b[0mmay\u001b[0m \u001b[0mbe\u001b[0m \u001b[0mused\u001b[0m\u001b[0;34m.\u001b[0m\u001b[0;34m\u001b[0m\u001b[0;34m\u001b[0m\u001b[0m\n\u001b[1;32m    662\u001b[0m         \"\"\"\n\u001b[0;32m--> 663\u001b[0;31m         \u001b[0mraw\u001b[0m \u001b[0;34m=\u001b[0m \u001b[0mself\u001b[0m\u001b[0;34m.\u001b[0m\u001b[0m_get_raw_data\u001b[0m\u001b[0;34m(\u001b[0m\u001b[0mself\u001b[0m\u001b[0;34m.\u001b[0m\u001b[0m_data_size\u001b[0m\u001b[0;34m,\u001b[0m \u001b[0;34m'ubyte'\u001b[0m\u001b[0;34m,\u001b[0m \u001b[0mself\u001b[0m\u001b[0;34m.\u001b[0m\u001b[0m_data_offset\u001b[0m\u001b[0;34m)\u001b[0m\u001b[0;34m\u001b[0m\u001b[0;34m\u001b[0m\u001b[0m\n\u001b[0m\u001b[1;32m    664\u001b[0m         \u001b[0;32mif\u001b[0m \u001b[0mraw\u001b[0m \u001b[0;32mis\u001b[0m \u001b[0;32mnot\u001b[0m \u001b[0;32mNone\u001b[0m\u001b[0;34m:\u001b[0m\u001b[0;34m\u001b[0m\u001b[0;34m\u001b[0m\u001b[0m\n\u001b[1;32m    665\u001b[0m             \u001b[0mfileobj\u001b[0m\u001b[0;34m.\u001b[0m\u001b[0mwritearray\u001b[0m\u001b[0;34m(\u001b[0m\u001b[0mraw\u001b[0m\u001b[0;34m)\u001b[0m\u001b[0;34m\u001b[0m\u001b[0;34m\u001b[0m\u001b[0m\n",
      "\u001b[0;32m/opt/anaconda3/lib/python3.9/site-packages/astropy/io/fits/hdu/base.py\u001b[0m in \u001b[0;36m_get_raw_data\u001b[0;34m(self, shape, code, offset)\u001b[0m\n\u001b[1;32m    520\u001b[0m                               offset=offset)\n\u001b[1;32m    521\u001b[0m         \u001b[0;32melif\u001b[0m \u001b[0mself\u001b[0m\u001b[0;34m.\u001b[0m\u001b[0m_file\u001b[0m\u001b[0;34m:\u001b[0m\u001b[0;34m\u001b[0m\u001b[0;34m\u001b[0m\u001b[0m\n\u001b[0;32m--> 522\u001b[0;31m             \u001b[0;32mreturn\u001b[0m \u001b[0mself\u001b[0m\u001b[0;34m.\u001b[0m\u001b[0m_file\u001b[0m\u001b[0;34m.\u001b[0m\u001b[0mreadarray\u001b[0m\u001b[0;34m(\u001b[0m\u001b[0moffset\u001b[0m\u001b[0;34m=\u001b[0m\u001b[0moffset\u001b[0m\u001b[0;34m,\u001b[0m \u001b[0mdtype\u001b[0m\u001b[0;34m=\u001b[0m\u001b[0mcode\u001b[0m\u001b[0;34m,\u001b[0m \u001b[0mshape\u001b[0m\u001b[0;34m=\u001b[0m\u001b[0mshape\u001b[0m\u001b[0;34m)\u001b[0m\u001b[0;34m\u001b[0m\u001b[0;34m\u001b[0m\u001b[0m\n\u001b[0m\u001b[1;32m    523\u001b[0m         \u001b[0;32melse\u001b[0m\u001b[0;34m:\u001b[0m\u001b[0;34m\u001b[0m\u001b[0;34m\u001b[0m\u001b[0m\n\u001b[1;32m    524\u001b[0m             \u001b[0;32mreturn\u001b[0m \u001b[0;32mNone\u001b[0m\u001b[0;34m\u001b[0m\u001b[0;34m\u001b[0m\u001b[0m\n",
      "\u001b[0;32m/opt/anaconda3/lib/python3.9/site-packages/astropy/io/fits/file.py\u001b[0m in \u001b[0;36mreadarray\u001b[0;34m(self, size, offset, dtype, shape)\u001b[0m\n\u001b[1;32m    278\u001b[0m                                  '{}'.format(size, shape, dtype))\n\u001b[1;32m    279\u001b[0m \u001b[0;34m\u001b[0m\u001b[0m\n\u001b[0;32m--> 280\u001b[0;31m         \u001b[0mfilepos\u001b[0m \u001b[0;34m=\u001b[0m \u001b[0mself\u001b[0m\u001b[0;34m.\u001b[0m\u001b[0m_file\u001b[0m\u001b[0;34m.\u001b[0m\u001b[0mtell\u001b[0m\u001b[0;34m(\u001b[0m\u001b[0;34m)\u001b[0m\u001b[0;34m\u001b[0m\u001b[0;34m\u001b[0m\u001b[0m\n\u001b[0m\u001b[1;32m    281\u001b[0m \u001b[0;34m\u001b[0m\u001b[0m\n\u001b[1;32m    282\u001b[0m         \u001b[0;32mtry\u001b[0m\u001b[0;34m:\u001b[0m\u001b[0;34m\u001b[0m\u001b[0;34m\u001b[0m\u001b[0m\n",
      "\u001b[0;31mValueError\u001b[0m: I/O operation on closed file"
     ]
    }
   ],
   "source": [
    "hdul.writeto('newtable.fits')"
   ]
  },
  {
   "cell_type": "code",
   "execution_count": 41,
   "id": "78d70ee5",
   "metadata": {},
   "outputs": [],
   "source": [
    "import numpy as np\n",
    "n = np.arange(100.0) # a simple sequence of floats from 0.0 to 99.9"
   ]
  },
  {
   "cell_type": "code",
   "execution_count": 42,
   "id": "645ed25a",
   "metadata": {},
   "outputs": [],
   "source": [
    "hdu = fits.PrimaryHDU(n)"
   ]
  },
  {
   "cell_type": "code",
   "execution_count": 43,
   "id": "bcdd2ba5",
   "metadata": {},
   "outputs": [],
   "source": [
    "hdul = fits.HDUList([hdu])\n",
    "hdul.writeto('new1.fits')"
   ]
  },
  {
   "cell_type": "code",
   "execution_count": 44,
   "id": "50943253",
   "metadata": {},
   "outputs": [],
   "source": [
    "hdu.writeto('new2.fits')"
   ]
  },
  {
   "cell_type": "code",
   "execution_count": 45,
   "id": "90c4a2c4",
   "metadata": {},
   "outputs": [],
   "source": [
    "from astropy.table import Table\n",
    "t = Table([[1, 2], [4, 5], [7, 8]], names=('a', 'b', 'c'))\n",
    "t.write('table1.fits', format='fits')"
   ]
  },
  {
   "cell_type": "code",
   "execution_count": 46,
   "id": "d7c9bb39",
   "metadata": {},
   "outputs": [],
   "source": [
    "from astropy.io import fits\n",
    "import numpy as np\n",
    "c1 = fits.Column(name='a', array=np.array([1, 2]), format='K')\n",
    "c2 = fits.Column(name='b', array=np.array([4, 5]), format='K')\n",
    "c3 = fits.Column(name='c', array=np.array([7, 8]), format='K')\n",
    "t = fits.BinTableHDU.from_columns([c1, c2, c3])\n",
    "t.writeto('table2.fits')"
   ]
  },
  {
   "cell_type": "code",
   "execution_count": 47,
   "id": "0ad1bf33",
   "metadata": {},
   "outputs": [],
   "source": [
    "import numpy as np\n",
    "a1 = np.array(['NGC1001', 'NGC1002', 'NGC1003'])\n",
    "a2 = np.array([11.1, 12.3, 15.2])\n",
    "col1 = fits.Column(name='target', format='20A', array=a1)\n",
    "col2 = fits.Column(name='V_mag', format='E', array=a2)"
   ]
  },
  {
   "cell_type": "code",
   "execution_count": 48,
   "id": "e6163f72",
   "metadata": {},
   "outputs": [],
   "source": [
    "cols = fits.ColDefs([col1, col2])"
   ]
  },
  {
   "cell_type": "code",
   "execution_count": 49,
   "id": "de77cee9",
   "metadata": {},
   "outputs": [],
   "source": [
    "hdu = fits.BinTableHDU.from_columns(cols)"
   ]
  },
  {
   "cell_type": "code",
   "execution_count": 50,
   "id": "6291abbf",
   "metadata": {},
   "outputs": [],
   "source": [
    "hdu = fits.BinTableHDU.from_columns(\n",
    "    [fits.Column(name='target', format='20A', array=a1),\n",
    "     fits.Column(name='V_mag', format='E', array=a2)])"
   ]
  },
  {
   "cell_type": "code",
   "execution_count": 51,
   "id": "59dc21e0",
   "metadata": {},
   "outputs": [],
   "source": [
    "hdu.writeto('table3.fits')"
   ]
  },
  {
   "cell_type": "code",
   "execution_count": 52,
   "id": "f7684669",
   "metadata": {},
   "outputs": [],
   "source": [
    "import numpy as np\n",
    "n = np.ones((3, 3))\n",
    "n2 = np.ones((100, 100))\n",
    "n3 = np.ones((10, 10, 10))"
   ]
  },
  {
   "cell_type": "code",
   "execution_count": 53,
   "id": "658dec2a",
   "metadata": {},
   "outputs": [],
   "source": [
    "primary_hdu = fits.PrimaryHDU(n)\n",
    "image_hdu = fits.ImageHDU(n2)\n",
    "image_hdu2 = fits.ImageHDU(n3)"
   ]
  },
  {
   "cell_type": "code",
   "execution_count": 54,
   "id": "78a81329",
   "metadata": {},
   "outputs": [],
   "source": [
    "c1 = fits.Column(name='a', array=np.array([1, 2]), format='K')\n",
    "c2 = fits.Column(name='b', array=np.array([4, 5]), format='K')\n",
    "c3 = fits.Column(name='c', array=np.array([7, 8]), format='K')\n",
    "table_hdu = fits.BinTableHDU.from_columns([c1, c2, c3])"
   ]
  },
  {
   "cell_type": "code",
   "execution_count": 55,
   "id": "5cec62f1",
   "metadata": {},
   "outputs": [],
   "source": [
    "hdul = fits.HDUList([primary_hdu, image_hdu, table_hdu])"
   ]
  },
  {
   "cell_type": "code",
   "execution_count": 56,
   "id": "8d33412d",
   "metadata": {},
   "outputs": [],
   "source": [
    "hdul.append(image_hdu2)"
   ]
  },
  {
   "cell_type": "code",
   "execution_count": 57,
   "id": "db02dbc3",
   "metadata": {},
   "outputs": [],
   "source": [
    "hdr = fits.Header()\n",
    "hdr['OBSERVER'] = 'Edwin Hubble'\n",
    "hdr['COMMENT'] = \"Here's some commentary about this FITS file.\"\n",
    "empty_primary = fits.PrimaryHDU(header=hdr)"
   ]
  },
  {
   "cell_type": "code",
   "execution_count": 58,
   "id": "114a4395",
   "metadata": {},
   "outputs": [],
   "source": [
    "hdul = fits.HDUList([empty_primary, image_hdu2, table_hdu])"
   ]
  },
  {
   "cell_type": "code",
   "execution_count": 59,
   "id": "a032fdca",
   "metadata": {},
   "outputs": [],
   "source": [
    "from astropy.io.fits import getheader\n",
    "hdr = getheader(fits_image_filename)  # get default HDU (=0), i.e. primary HDU's header\n",
    "hdr = getheader(fits_image_filename, 0)  # get primary HDU's header\n",
    "hdr = getheader(fits_image_filename, 2)  # the second extension\n",
    "hdr = getheader(fits_image_filename, 'sci')  # the first HDU with EXTNAME='SCI'\n",
    "hdr = getheader(fits_image_filename, 'sci', 2)  # HDU with EXTNAME='SCI' and EXTVER=2\n",
    "hdr = getheader(fits_image_filename, ('sci', 2))  # use a tuple to do the same\n",
    "hdr = getheader(fits_image_filename, ext=2)  # the second extension\n",
    "hdr = getheader(fits_image_filename, extname='sci')  # first HDU with EXTNAME='SCI'\n",
    "hdr = getheader(fits_image_filename, extname='sci', extver=2)"
   ]
  },
  {
   "cell_type": "code",
   "execution_count": 60,
   "id": "65070bbc",
   "metadata": {},
   "outputs": [
    {
     "ename": "TypeError",
     "evalue": "Redundant/conflicting extension arguments(s): {'args': (), 'ext': ('sci', 1), 'extname': 'err', 'extver': 2}",
     "output_type": "error",
     "traceback": [
      "\u001b[0;31m---------------------------------------------------------------------------\u001b[0m",
      "\u001b[0;31mTypeError\u001b[0m                                 Traceback (most recent call last)",
      "\u001b[0;32m/var/folders/xj/0mk4jn0d0x1dh7w33nl5g1740000gp/T/ipykernel_31130/2059350341.py\u001b[0m in \u001b[0;36m<module>\u001b[0;34m\u001b[0m\n\u001b[0;32m----> 1\u001b[0;31m \u001b[0mgetheader\u001b[0m\u001b[0;34m(\u001b[0m\u001b[0mfits_image_filename\u001b[0m\u001b[0;34m,\u001b[0m \u001b[0mext\u001b[0m\u001b[0;34m=\u001b[0m\u001b[0;34m(\u001b[0m\u001b[0;34m'sci'\u001b[0m\u001b[0;34m,\u001b[0m \u001b[0;36m1\u001b[0m\u001b[0;34m)\u001b[0m\u001b[0;34m,\u001b[0m \u001b[0mextname\u001b[0m\u001b[0;34m=\u001b[0m\u001b[0;34m'err'\u001b[0m\u001b[0;34m,\u001b[0m \u001b[0mextver\u001b[0m\u001b[0;34m=\u001b[0m\u001b[0;36m2\u001b[0m\u001b[0;34m)\u001b[0m\u001b[0;34m\u001b[0m\u001b[0;34m\u001b[0m\u001b[0m\n\u001b[0m",
      "\u001b[0;32m/opt/anaconda3/lib/python3.9/site-packages/astropy/io/fits/convenience.py\u001b[0m in \u001b[0;36mgetheader\u001b[0;34m(filename, *args, **kwargs)\u001b[0m\n\u001b[1;32m    101\u001b[0m \u001b[0;34m\u001b[0m\u001b[0m\n\u001b[1;32m    102\u001b[0m     \u001b[0mmode\u001b[0m\u001b[0;34m,\u001b[0m \u001b[0mclosed\u001b[0m \u001b[0;34m=\u001b[0m \u001b[0m_get_file_mode\u001b[0m\u001b[0;34m(\u001b[0m\u001b[0mfilename\u001b[0m\u001b[0;34m)\u001b[0m\u001b[0;34m\u001b[0m\u001b[0;34m\u001b[0m\u001b[0m\n\u001b[0;32m--> 103\u001b[0;31m     \u001b[0mhdulist\u001b[0m\u001b[0;34m,\u001b[0m \u001b[0mextidx\u001b[0m \u001b[0;34m=\u001b[0m \u001b[0m_getext\u001b[0m\u001b[0;34m(\u001b[0m\u001b[0mfilename\u001b[0m\u001b[0;34m,\u001b[0m \u001b[0mmode\u001b[0m\u001b[0;34m,\u001b[0m \u001b[0;34m*\u001b[0m\u001b[0margs\u001b[0m\u001b[0;34m,\u001b[0m \u001b[0;34m**\u001b[0m\u001b[0mkwargs\u001b[0m\u001b[0;34m)\u001b[0m\u001b[0;34m\u001b[0m\u001b[0;34m\u001b[0m\u001b[0m\n\u001b[0m\u001b[1;32m    104\u001b[0m     \u001b[0;32mtry\u001b[0m\u001b[0;34m:\u001b[0m\u001b[0;34m\u001b[0m\u001b[0;34m\u001b[0m\u001b[0m\n\u001b[1;32m    105\u001b[0m         \u001b[0mhdu\u001b[0m \u001b[0;34m=\u001b[0m \u001b[0mhdulist\u001b[0m\u001b[0;34m[\u001b[0m\u001b[0mextidx\u001b[0m\u001b[0;34m]\u001b[0m\u001b[0;34m\u001b[0m\u001b[0;34m\u001b[0m\u001b[0m\n",
      "\u001b[0;32m/opt/anaconda3/lib/python3.9/site-packages/astropy/io/fits/convenience.py\u001b[0m in \u001b[0;36m_getext\u001b[0;34m(filename, mode, ext, extname, extver, *args, **kwargs)\u001b[0m\n\u001b[1;32m   1060\u001b[0m         \u001b[0mext\u001b[0m \u001b[0;34m=\u001b[0m \u001b[0;36m0\u001b[0m\u001b[0;34m\u001b[0m\u001b[0;34m\u001b[0m\u001b[0m\n\u001b[1;32m   1061\u001b[0m     \u001b[0;32melif\u001b[0m \u001b[0mext\u001b[0m \u001b[0;32mis\u001b[0m \u001b[0;32mnot\u001b[0m \u001b[0;32mNone\u001b[0m \u001b[0;32mand\u001b[0m \u001b[0;34m(\u001b[0m\u001b[0mextname\u001b[0m \u001b[0;32mis\u001b[0m \u001b[0;32mnot\u001b[0m \u001b[0;32mNone\u001b[0m \u001b[0;32mor\u001b[0m \u001b[0mextver\u001b[0m \u001b[0;32mis\u001b[0m \u001b[0;32mnot\u001b[0m \u001b[0;32mNone\u001b[0m\u001b[0;34m)\u001b[0m\u001b[0;34m:\u001b[0m\u001b[0;34m\u001b[0m\u001b[0;34m\u001b[0m\u001b[0m\n\u001b[0;32m-> 1062\u001b[0;31m         \u001b[0;32mraise\u001b[0m \u001b[0mTypeError\u001b[0m\u001b[0;34m(\u001b[0m\u001b[0merr_msg\u001b[0m\u001b[0;34m)\u001b[0m\u001b[0;34m\u001b[0m\u001b[0;34m\u001b[0m\u001b[0m\n\u001b[0m\u001b[1;32m   1063\u001b[0m     \u001b[0;32melif\u001b[0m \u001b[0mextname\u001b[0m\u001b[0;34m:\u001b[0m\u001b[0;34m\u001b[0m\u001b[0;34m\u001b[0m\u001b[0m\n\u001b[1;32m   1064\u001b[0m         \u001b[0;32mif\u001b[0m \u001b[0mextver\u001b[0m\u001b[0;34m:\u001b[0m\u001b[0;34m\u001b[0m\u001b[0;34m\u001b[0m\u001b[0m\n",
      "\u001b[0;31mTypeError\u001b[0m: Redundant/conflicting extension arguments(s): {'args': (), 'ext': ('sci', 1), 'extname': 'err', 'extver': 2}"
     ]
    }
   ],
   "source": [
    "getheader(fits_image_filename, ext=('sci', 1), extname='err', extver=2)\n"
   ]
  },
  {
   "cell_type": "code",
   "execution_count": 61,
   "id": "2dbc6973",
   "metadata": {},
   "outputs": [],
   "source": [
    "fits_image_2_filename = fits.util.get_testdata_filepath('o4sp040b0_raw.fits')\n",
    "hdr = getheader(fits_image_2_filename, 0)    # get primary hdu's header\n",
    "filter = hdr['filter']                       # get the value of the keyword \"filter'\n",
    "val = hdr[10]                                # get the 11th keyword's value\n",
    "hdr['filter'] = 'FW555'                      # change the keyword value"
   ]
  },
  {
   "cell_type": "code",
   "execution_count": 62,
   "id": "1a036dca",
   "metadata": {},
   "outputs": [
    {
     "data": {
      "text/plain": [
       "False"
      ]
     },
     "execution_count": 62,
     "metadata": {},
     "output_type": "execute_result"
    }
   ],
   "source": [
    "from astropy.io.fits import getval\n",
    "# get 0th extension's keyword FILTER's value\n",
    "flt = getval(fits_image_2_filename, 'filter', 0)\n",
    "flt\n",
    "\n",
    "\n",
    "# get the 2nd sci extension's 11th keyword's value\n",
    "val = getval(fits_image_2_filename, 10, 'sci', 2)\n",
    "val"
   ]
  },
  {
   "cell_type": "code",
   "execution_count": 63,
   "id": "3332e8c9",
   "metadata": {},
   "outputs": [],
   "source": [
    "from astropy.io.fits import getdata\n",
    "# get 3rd sci extension's data:\n",
    "data = getdata(fits_image_filename, 'sci', 3)\n",
    "# get 1st extension's data AND header:\n",
    "data, hdr = getdata(fits_image_filename, 1, header=True)"
   ]
  },
  {
   "cell_type": "code",
   "execution_count": 64,
   "id": "90398073",
   "metadata": {},
   "outputs": [],
   "source": [
    "fits.writeto('out.fits', data, hdr)"
   ]
  },
  {
   "cell_type": "code",
   "execution_count": 65,
   "id": "627ebee0",
   "metadata": {},
   "outputs": [],
   "source": [
    "fits.append('out.fits', data, hdr)"
   ]
  },
  {
   "cell_type": "code",
   "execution_count": 66,
   "id": "e9cd5809",
   "metadata": {},
   "outputs": [
    {
     "ename": "NameError",
     "evalue": "name 'filename' is not defined",
     "output_type": "error",
     "traceback": [
      "\u001b[0;31m---------------------------------------------------------------------------\u001b[0m",
      "\u001b[0;31mNameError\u001b[0m                                 Traceback (most recent call last)",
      "\u001b[0;32m/var/folders/xj/0mk4jn0d0x1dh7w33nl5g1740000gp/T/ipykernel_31130/1888342908.py\u001b[0m in \u001b[0;36m<module>\u001b[0;34m\u001b[0m\n\u001b[1;32m      1\u001b[0m \u001b[0;32mfrom\u001b[0m \u001b[0mastropy\u001b[0m\u001b[0;34m.\u001b[0m\u001b[0mio\u001b[0m\u001b[0;34m.\u001b[0m\u001b[0mfits\u001b[0m \u001b[0;32mimport\u001b[0m \u001b[0mupdate\u001b[0m\u001b[0;34m\u001b[0m\u001b[0;34m\u001b[0m\u001b[0m\n\u001b[0;32m----> 2\u001b[0;31m \u001b[0mupdate\u001b[0m\u001b[0;34m(\u001b[0m\u001b[0mfilename\u001b[0m\u001b[0;34m,\u001b[0m \u001b[0mdat\u001b[0m\u001b[0;34m,\u001b[0m \u001b[0mhdr\u001b[0m\u001b[0;34m,\u001b[0m \u001b[0;34m'sci'\u001b[0m\u001b[0;34m)\u001b[0m         \u001b[0;31m# update the 'sci' extension\u001b[0m\u001b[0;34m\u001b[0m\u001b[0;34m\u001b[0m\u001b[0m\n\u001b[0m\u001b[1;32m      3\u001b[0m \u001b[0mupdate\u001b[0m\u001b[0;34m(\u001b[0m\u001b[0mfilename\u001b[0m\u001b[0;34m,\u001b[0m \u001b[0mdat\u001b[0m\u001b[0;34m,\u001b[0m \u001b[0;36m3\u001b[0m\u001b[0;34m)\u001b[0m                  \u001b[0;31m# update the 3rd extension\u001b[0m\u001b[0;34m\u001b[0m\u001b[0;34m\u001b[0m\u001b[0m\n\u001b[1;32m      4\u001b[0m \u001b[0mupdate\u001b[0m\u001b[0;34m(\u001b[0m\u001b[0mfilename\u001b[0m\u001b[0;34m,\u001b[0m \u001b[0mdat\u001b[0m\u001b[0;34m,\u001b[0m \u001b[0mhdr\u001b[0m\u001b[0;34m,\u001b[0m \u001b[0;36m3\u001b[0m\u001b[0;34m)\u001b[0m             \u001b[0;31m# update the 3rd extension\u001b[0m\u001b[0;34m\u001b[0m\u001b[0;34m\u001b[0m\u001b[0m\n\u001b[1;32m      5\u001b[0m \u001b[0mupdate\u001b[0m\u001b[0;34m(\u001b[0m\u001b[0mfilename\u001b[0m\u001b[0;34m,\u001b[0m \u001b[0mdat\u001b[0m\u001b[0;34m,\u001b[0m \u001b[0;34m'sci'\u001b[0m\u001b[0;34m,\u001b[0m \u001b[0;36m2\u001b[0m\u001b[0;34m)\u001b[0m           \u001b[0;31m# update the 2nd SCI extension\u001b[0m\u001b[0;34m\u001b[0m\u001b[0;34m\u001b[0m\u001b[0m\n",
      "\u001b[0;31mNameError\u001b[0m: name 'filename' is not defined"
     ]
    }
   ],
   "source": [
    "from astropy.io.fits import update\n",
    "update(filename, dat, hdr, 'sci')         # update the 'sci' extension\n",
    "update(filename, dat, 3)                  # update the 3rd extension\n",
    "update(filename, dat, hdr, 3)             # update the 3rd extension\n",
    "update(filename, dat, 'sci', 2)           # update the 2nd SCI extension\n",
    "update(filename, dat, 3, header=hdr)      # update the 3rd extension\n",
    "update(filename, dat, header=hdr, ext=5)  # update the 5th extension"
   ]
  },
  {
   "cell_type": "code",
   "execution_count": 67,
   "id": "959dc5ba",
   "metadata": {},
   "outputs": [
    {
     "ename": "SyntaxError",
     "evalue": "unexpected EOF while parsing (1428782923.py, line 5)",
     "output_type": "error",
     "traceback": [
      "\u001b[0;36m  File \u001b[0;32m\"/var/folders/xj/0mk4jn0d0x1dh7w33nl5g1740000gp/T/ipykernel_31130/1428782923.py\"\u001b[0;36m, line \u001b[0;32m5\u001b[0m\n\u001b[0;31m    printdiff('inA.fits', 'inB.fits', ignore_keywords=('HISTORY','COMMENT')\u001b[0m\n\u001b[0m                                                                           ^\u001b[0m\n\u001b[0;31mSyntaxError\u001b[0m\u001b[0;31m:\u001b[0m unexpected EOF while parsing\n"
     ]
    }
   ],
   "source": [
    "from astropy.io.fits import printdiff\n",
    "# get a difference report of ext 2 of inA and inB\n",
    "printdiff('inA.fits', 'inB.fits', ext=2)\n",
    "# ignore HISTORY and COMMENT keywords\n",
    "printdiff('inA.fits', 'inB.fits', ignore_keywords=('HISTORY','COMMENT')"
   ]
  },
  {
   "cell_type": "code",
   "execution_count": 68,
   "id": "e96bc1a8",
   "metadata": {},
   "outputs": [
    {
     "name": "stdout",
     "output_type": "stream",
     "text": [
      "Filename: /opt/anaconda3/lib/python3.9/site-packages/astropy/io/fits/tests/data/test0.fits\n",
      "No.    Name      Ver    Type      Cards   Dimensions   Format\n",
      "  0  PRIMARY       1 PrimaryHDU     138   ()      \n",
      "  1  SCI           1 ImageHDU        61   (40, 40)   int16   \n",
      "  2  SCI           2 ImageHDU        61   (40, 40)   int16   \n",
      "  3  SCI           3 ImageHDU        61   (40, 40)   int16   \n",
      "  4  SCI           4 ImageHDU        61   (40, 40)   int16   \n"
     ]
    }
   ],
   "source": [
    "fits.info(fits_image_filename)"
   ]
  },
  {
   "cell_type": "code",
   "execution_count": 69,
   "id": "35473b80",
   "metadata": {},
   "outputs": [],
   "source": [
    "import dask.array as da\n",
    "array = da.random.random((1000, 1000))\n",
    "from astropy.io import fits\n",
    "hdu = fits.PrimaryHDU(data=array)\n",
    "hdu.writeto('test_dask.fits')"
   ]
  },
  {
   "cell_type": "code",
   "execution_count": null,
   "id": "2727ded6",
   "metadata": {},
   "outputs": [],
   "source": []
  },
  {
   "cell_type": "code",
   "execution_count": 2,
   "id": "f7af2fd9",
   "metadata": {},
   "outputs": [],
   "source": [
    "from astropy.table import Table\n",
    "t = Table()\n",
    "t['a'] = [1, 2, 3, 4]\n",
    "t['b'] = ['a', 'b', 'c', 'd']"
   ]
  },
  {
   "cell_type": "code",
   "execution_count": 3,
   "id": "430ea23d",
   "metadata": {},
   "outputs": [
    {
     "data": {
      "text/plain": [
       "pandas.core.frame.DataFrame"
      ]
     },
     "execution_count": 3,
     "metadata": {},
     "output_type": "execute_result"
    }
   ],
   "source": [
    "df = t.to_pandas()\n",
    "df\n",
    "\n",
    "\n",
    "\n",
    "\n",
    "\n",
    "type(df)"
   ]
  },
  {
   "cell_type": "code",
   "execution_count": 4,
   "id": "3d58c495",
   "metadata": {},
   "outputs": [
    {
     "data": {
      "text/html": [
       "<div><i>Table length=4</i>\n",
       "<table id=\"table4829391984\" class=\"table-striped table-bordered table-condensed\">\n",
       "<thead><tr><th>a</th><th>b</th></tr></thead>\n",
       "<thead><tr><th>int64</th><th>str1</th></tr></thead>\n",
       "<tr><td>1</td><td>a</td></tr>\n",
       "<tr><td>2</td><td>b</td></tr>\n",
       "<tr><td>3</td><td>c</td></tr>\n",
       "<tr><td>4</td><td>d</td></tr>\n",
       "</table></div>"
      ],
      "text/plain": [
       "<Table length=4>\n",
       "  a    b  \n",
       "int64 str1\n",
       "----- ----\n",
       "    1    a\n",
       "    2    b\n",
       "    3    c\n",
       "    4    d"
      ]
     },
     "execution_count": 4,
     "metadata": {},
     "output_type": "execute_result"
    }
   ],
   "source": [
    "t2 = Table.from_pandas(df)\n",
    "t2"
   ]
  },
  {
   "cell_type": "code",
   "execution_count": null,
   "id": "d56bb694",
   "metadata": {},
   "outputs": [],
   "source": []
  }
 ],
 "metadata": {
  "kernelspec": {
   "display_name": "Python 3 (ipykernel)",
   "language": "python",
   "name": "python3"
  },
  "language_info": {
   "codemirror_mode": {
    "name": "ipython",
    "version": 3
   },
   "file_extension": ".py",
   "mimetype": "text/x-python",
   "name": "python",
   "nbconvert_exporter": "python",
   "pygments_lexer": "ipython3",
   "version": "3.9.13"
  }
 },
 "nbformat": 4,
 "nbformat_minor": 5
}
