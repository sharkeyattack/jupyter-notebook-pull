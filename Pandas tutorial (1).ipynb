{
 "cells": [
  {
   "cell_type": "code",
   "execution_count": 2,
   "id": "422bc7c5",
   "metadata": {},
   "outputs": [],
   "source": [
    "from astropy.table import QTable\n",
    "import astropy.units as u\n",
    "import numpy as np\n",
    "\n",
    "a = np.array([1, 4, 5], dtype=np.int32)\n",
    "b = [2.0, 5.0, 8.5]\n",
    "c = ['x', 'y', 'z']\n",
    "d = [10, 20, 30] * u.m / u.s\n",
    "\n",
    "t = QTable([a, b, c, d],\n",
    "           names=('a', 'b', 'c', 'd'),\n",
    "           meta={'name': 'first table'})"
   ]
  },
  {
   "cell_type": "code",
   "execution_count": 3,
   "id": "45c426ba",
   "metadata": {},
   "outputs": [
    {
     "data": {
      "text/html": [
       "<div><i>QTable length=3</i>\n",
       "<table id=\"table4471489152\" class=\"table-striped table-bordered table-condensed\">\n",
       "<thead><tr><th>a</th><th>b</th><th>c</th><th>d</th></tr></thead>\n",
       "<thead><tr><th></th><th></th><th></th><th>m / s</th></tr></thead>\n",
       "<thead><tr><th>int32</th><th>float64</th><th>str1</th><th>float64</th></tr></thead>\n",
       "<tr><td>1</td><td>2.0</td><td>x</td><td>10.0</td></tr>\n",
       "<tr><td>4</td><td>5.0</td><td>y</td><td>20.0</td></tr>\n",
       "<tr><td>5</td><td>8.5</td><td>z</td><td>30.0</td></tr>\n",
       "</table></div>"
      ],
      "text/plain": [
       "<QTable length=3>\n",
       "  a      b     c      d   \n",
       "                    m / s \n",
       "int32 float64 str1 float64\n",
       "----- ------- ---- -------\n",
       "    1     2.0    x    10.0\n",
       "    4     5.0    y    20.0\n",
       "    5     8.5    z    30.0"
      ]
     },
     "execution_count": 3,
     "metadata": {},
     "output_type": "execute_result"
    }
   ],
   "source": [
    "t"
   ]
  },
  {
   "cell_type": "code",
   "execution_count": 4,
   "id": "afe0aa21",
   "metadata": {},
   "outputs": [
    {
     "data": {
      "text/plain": [
       "<QTable length=3>\n",
       "name  dtype   unit  class  \n",
       "---- ------- ----- --------\n",
       "   a   int32         Column\n",
       "   b float64         Column\n",
       "   c    str1         Column\n",
       "   d float64 m / s Quantity"
      ]
     },
     "execution_count": 4,
     "metadata": {},
     "output_type": "execute_result"
    }
   ],
   "source": [
    "t.info"
   ]
  },
  {
   "cell_type": "code",
   "execution_count": 5,
   "id": "e9c7a947",
   "metadata": {},
   "outputs": [
    {
     "name": "stdout",
     "output_type": "stream",
     "text": [
      " a   b   c    d  \n",
      "            m / s\n",
      "--- --- --- -----\n",
      "  1 2.0   x  10.0\n",
      "  4 5.0   y  20.0\n",
      "  5 8.5   z  30.0\n"
     ]
    }
   ],
   "source": [
    "print(t)"
   ]
  },
  {
   "cell_type": "code",
   "execution_count": 6,
   "id": "1e4c7ec7",
   "metadata": {},
   "outputs": [
    {
     "name": "stdout",
     "output_type": "stream",
     "text": [
      " a     b     c    d  \n",
      "                m / s\n",
      "--- ------- --- -----\n",
      "  1   2.000   x  10.0\n",
      "  4   5.000   y  20.0\n",
      "  5   8.500   z  30.0\n"
     ]
    }
   ],
   "source": [
    "t['b'].info.format = '7.3f'\n",
    "print(t)"
   ]
  },
  {
   "cell_type": "code",
   "execution_count": 7,
   "id": "c7fcf9c6",
   "metadata": {},
   "outputs": [
    {
     "name": "stdout",
     "output_type": "stream",
     "text": [
      "\u001b[H\u001b[2J a     b     c    d  \n",
      "                m / s\n",
      "--- ------- --- -----\n",
      "  1   2.000   x  10.0\n",
      "  4   5.000   y  20.0\n",
      "  5   8.500   z  30.0\n",
      "\n",
      "-- f, <space>, b, r, p, n, <, >, q h (help) -- \n",
      "\n"
     ]
    },
    {
     "name": "stderr",
     "output_type": "stream",
     "text": [
      "ERROR: Console does not support getting a character as required by more().  Use pprint() instead. [astropy.table.pprint]\n"
     ]
    }
   ],
   "source": [
    "t.more()"
   ]
  },
  {
   "cell_type": "code",
   "execution_count": 8,
   "id": "5523486f",
   "metadata": {},
   "outputs": [],
   "source": [
    "t.show_in_browser()  "
   ]
  },
  {
   "cell_type": "code",
   "execution_count": 9,
   "id": "39a6aad3",
   "metadata": {},
   "outputs": [],
   "source": [
    "t.show_in_browser(jsviewer=True)  "
   ]
  },
  {
   "cell_type": "code",
   "execution_count": 10,
   "id": "d8fcbec0",
   "metadata": {},
   "outputs": [
    {
     "data": {
      "text/plain": [
       "{'name': 'first table'}"
      ]
     },
     "execution_count": 10,
     "metadata": {},
     "output_type": "execute_result"
    }
   ],
   "source": [
    "t.colnames\n",
    "\n",
    "len(t)\n",
    "\n",
    "t.meta"
   ]
  },
  {
   "cell_type": "code",
   "execution_count": 11,
   "id": "0a4827f2",
   "metadata": {},
   "outputs": [
    {
     "data": {
      "text/plain": [
       "4"
      ]
     },
     "execution_count": 11,
     "metadata": {},
     "output_type": "execute_result"
    }
   ],
   "source": [
    "t['a']       # Column 'a'\n",
    "\n",
    "\n",
    "\n",
    "\n",
    "\n",
    "t['a'][1]    # Row 1 of column 'a'\n",
    "\n",
    "\n",
    "t[1]         # Row 1 of the table\n",
    "\n",
    "\n",
    "\n",
    "\n",
    "\n",
    "\n",
    "\n",
    "\n",
    "t[1]['a']    # Column 'a' of row 1"
   ]
  },
  {
   "cell_type": "code",
   "execution_count": 12,
   "id": "8a8fa8fe",
   "metadata": {},
   "outputs": [
    {
     "name": "stdout",
     "output_type": "stream",
     "text": [
      " a     b     c    d  \n",
      "                m / s\n",
      "--- ------- --- -----\n",
      "  1   2.000   x  10.0\n",
      "  4   5.000   y  20.0\n",
      " a   c \n",
      "--- ---\n",
      "  1   x\n",
      "  4   y\n",
      "  5   z\n"
     ]
    }
   ],
   "source": [
    "print(t[0:2])      # Table object with rows 0 and 1\n",
    "\n",
    "\n",
    "\n",
    "\n",
    "\n",
    "\n",
    "\n",
    "print(t['a', 'c'])  # Table with cols 'a' and 'c'\n",
    "\n"
   ]
  },
  {
   "cell_type": "code",
   "execution_count": 13,
   "id": "65af1347",
   "metadata": {},
   "outputs": [
    {
     "name": "stdout",
     "output_type": "stream",
     "text": [
      " a     b     c    d  \n",
      "                m / s\n",
      "--- ------- --- -----\n",
      " -1 100.000   x  10.0\n",
      "  8 100.000   W   4.0\n",
      " 30   8.500   z  30.0\n"
     ]
    }
   ],
   "source": [
    "t['a'][:] = [-1, -2, -3]    # Set all column values in place\n",
    "t['a'][2] = 30              # Set row 2 of column 'a'\n",
    "t[1] = (8, 9.0, \"W\", 4 * u.m / u.s) # Set all values of row 1\n",
    "t[1]['b'] = -9              # Set column 'b' of row 1\n",
    "t[0:2]['b'] = 100.0         # Set column 'b' of rows 0 and 1\n",
    "print(t)\n"
   ]
  },
  {
   "cell_type": "code",
   "execution_count": 14,
   "id": "37c9309e",
   "metadata": {},
   "outputs": [
    {
     "data": {
      "text/plain": [
       "['A', 'b', 'd', 'e']"
      ]
     },
     "execution_count": 14,
     "metadata": {},
     "output_type": "execute_result"
    }
   ],
   "source": [
    "t['b'] = ['a', 'new', 'dtype']   # Replace column 'b' (different from in-place)\n",
    "t['e'] = [1, 2, 3]               # Add column 'e'\n",
    "del t['c']                       # Delete column 'c'\n",
    "t.rename_column('a', 'A')        # Rename column 'a' to 'A'\n",
    "t.colnames\n"
   ]
  },
  {
   "cell_type": "code",
   "execution_count": 15,
   "id": "02f9c104",
   "metadata": {},
   "outputs": [
    {
     "data": {
      "text/latex": [
       "$[10,~4,~30,~0.1] \\; \\mathrm{\\frac{m}{s}}$"
      ],
      "text/plain": [
       "<Quantity [10. ,  4. , 30. ,  0.1] m / s>"
      ]
     },
     "execution_count": 15,
     "metadata": {},
     "output_type": "execute_result"
    }
   ],
   "source": [
    "t.add_row([-8, 'string', 10 * u.cm / u.s, 10])\n",
    "t['d']"
   ]
  },
  {
   "cell_type": "code",
   "execution_count": 16,
   "id": "160abc15",
   "metadata": {},
   "outputs": [
    {
     "data": {
      "text/html": [
       "<div><i>QTable length=3</i>\n",
       "<table id=\"table4754562736\" class=\"table-striped table-bordered table-condensed\">\n",
       "<thead><tr><th>a</th><th>b</th><th>c</th></tr></thead>\n",
       "<thead><tr><th>int32</th><th>float64</th><th>str1</th></tr></thead>\n",
       "<tr><td>--</td><td>2.0</td><td>x</td></tr>\n",
       "<tr><td>--</td><td>5.0</td><td>y</td></tr>\n",
       "<tr><td>5</td><td>8.5</td><td>z</td></tr>\n",
       "</table></div>"
      ],
      "text/plain": [
       "<QTable length=3>\n",
       "  a      b     c  \n",
       "int32 float64 str1\n",
       "----- ------- ----\n",
       "   --     2.0    x\n",
       "   --     5.0    y\n",
       "    5     8.5    z"
      ]
     },
     "execution_count": 16,
     "metadata": {},
     "output_type": "execute_result"
    }
   ],
   "source": [
    "from astropy.table import MaskedColumn\n",
    "a_masked = MaskedColumn(a, mask=[True, True, False])\n",
    "t = QTable([a_masked, b, c], names=('a', 'b', 'c'),\n",
    "           dtype=('i4', 'f8', 'U1'))\n",
    "t"
   ]
  },
  {
   "cell_type": "code",
   "execution_count": 17,
   "id": "b796a644",
   "metadata": {},
   "outputs": [
    {
     "data": {
      "text/html": [
       "<div><i>QTable length=2</i>\n",
       "<table id=\"table4754652320\" class=\"table-striped table-bordered table-condensed\">\n",
       "<thead><tr><th>time</th><th>skycoord</th></tr></thead>\n",
       "<thead><tr><th></th><th>deg,deg</th></tr></thead>\n",
       "<thead><tr><th>Time</th><th>SkyCoord</th></tr></thead>\n",
       "<tr><td>2000:002:00:00:00.000</td><td>10.0,-45.0</td></tr>\n",
       "<tr><td>2002:345:00:00:00.000</td><td>20.0,40.0</td></tr>\n",
       "</table></div>"
      ],
      "text/plain": [
       "<QTable length=2>\n",
       "         time          skycoord \n",
       "                       deg,deg  \n",
       "         Time          SkyCoord \n",
       "--------------------- ----------\n",
       "2000:002:00:00:00.000 10.0,-45.0\n",
       "2002:345:00:00:00.000  20.0,40.0"
      ]
     },
     "execution_count": 17,
     "metadata": {},
     "output_type": "execute_result"
    }
   ],
   "source": [
    "from astropy.time import Time\n",
    "from astropy.coordinates import SkyCoord\n",
    "tm = Time(['2000:002', '2002:345'])\n",
    "sc = SkyCoord([10, 20], [-45, +40], unit='deg')\n",
    "t = QTable([tm, sc], names=['time', 'skycoord'])\n",
    "t"
   ]
  },
  {
   "cell_type": "code",
   "execution_count": 18,
   "id": "be179e10",
   "metadata": {},
   "outputs": [
    {
     "name": "stdout",
     "output_type": "stream",
     "text": [
      "         time          skycoord   dt_cxo \n",
      "                       deg,deg      d    \n",
      "--------------------- ---------- --------\n",
      "2000:002:00:00:00.000 10.0,-45.0  162.812\n",
      "2002:345:00:00:00.000  20.0,40.0 1236.812\n"
     ]
    }
   ],
   "source": [
    "dt = t['time'] - Time('1999-07-23 04:30:59.984')\n",
    "t['dt_cxo'] = dt.to(u.d)\n",
    "t['dt_cxo'].info.format = '.3f'\n",
    "print(t)"
   ]
  },
  {
   "cell_type": "code",
   "execution_count": 19,
   "id": "119e87b1",
   "metadata": {},
   "outputs": [],
   "source": [
    "from astropy.table import Table\n",
    "t = Table(names=['a', 'b'])\n",
    "for i in range(100):\n",
    "    t.add_row((1, 2))"
   ]
  },
  {
   "cell_type": "code",
   "execution_count": 20,
   "id": "a19c7aea",
   "metadata": {},
   "outputs": [],
   "source": [
    "rows = []\n",
    "for i in range(100):\n",
    "    rows.append((1, 2))\n",
    "t = Table(rows=rows, names=['a', 'b'])"
   ]
  },
  {
   "cell_type": "code",
   "execution_count": 21,
   "id": "ce1b4bed",
   "metadata": {},
   "outputs": [],
   "source": [
    "from astropy.table import Table\n",
    "import numpy as np\n",
    "x = np.arange(10000, dtype=float)\n",
    "tm = Table([x], masked=True)\n",
    "tm.write('tm.ecsv', overwrite=True)"
   ]
  },
  {
   "cell_type": "code",
   "execution_count": 22,
   "id": "3a12a515",
   "metadata": {},
   "outputs": [],
   "source": [
    "tm.write('tm.ecsv', overwrite=True, serialize_method='data_mask')\n"
   ]
  },
  {
   "cell_type": "code",
   "execution_count": 23,
   "id": "8fd2c455",
   "metadata": {},
   "outputs": [
    {
     "ename": "IndentationError",
     "evalue": "unexpected indent (3275925885.py, line 15)",
     "output_type": "error",
     "traceback": [
      "\u001b[0;36m  File \u001b[0;32m\"/var/folders/xj/0mk4jn0d0x1dh7w33nl5g1740000gp/T/ipykernel_40064/3275925885.py\"\u001b[0;36m, line \u001b[0;32m15\u001b[0m\n\u001b[0;31m    ...  ...\u001b[0m\n\u001b[0m    ^\u001b[0m\n\u001b[0;31mIndentationError\u001b[0m\u001b[0;31m:\u001b[0m unexpected indent\n"
     ]
    }
   ],
   "source": [
    "import numpy as np\n",
    "from astropy.table import Table\n",
    "tbl = Table({'a': np.arange(1e7),\n",
    "             'b': np.arange(1e7, dtype=float),\n",
    "             'c': np.arange(1e7, dtype=float)})\n",
    "tbl.write('test.fits', overwrite=True)\n",
    "table = Table.read('test.fits', memmap=True)  # Very fast, doesn't actually load data\n",
    "table2 = tbl[:100]  # Fast, will read only first 100 rows\n",
    "print(table2)  # Accessing column data triggers the read\n",
    "\n",
    "\n",
    "\n",
    "\n",
    "\n",
    " ...  ...\n",
    "\n",
    "\n",
    "\n",
    "col = table['my_column']  # Will load all table into memory"
   ]
  },
  {
   "cell_type": "code",
   "execution_count": 24,
   "id": "56985207",
   "metadata": {},
   "outputs": [],
   "source": [
    "from astropy.table import QTable, Table, Column\n",
    "from astropy import units as u\n",
    "import numpy as np\n"
   ]
  },
  {
   "cell_type": "code",
   "execution_count": 25,
   "id": "9eaecb56",
   "metadata": {},
   "outputs": [],
   "source": [
    "t = Table()\n",
    "t['a'] = [1, 4]\n",
    "t['b'] = [2.0, 5.0]\n",
    "t['c'] = ['x', 'y']\n",
    "\n",
    "t = Table(names=('a', 'b', 'c'), dtype=('f4', 'i4', 'S2'))\n",
    "t.add_row((1, 2.0, 'x'))\n",
    "t.add_row((4, 5.0, 'y'))\n",
    "\n",
    "t = Table(dtype=[('a', 'f4'), ('b', 'i4'), ('c', 'S2')])"
   ]
  },
  {
   "cell_type": "code",
   "execution_count": 26,
   "id": "1578dfbc",
   "metadata": {},
   "outputs": [
    {
     "data": {
      "text/plain": [
       "astropy.units.quantity.Quantity"
      ]
     },
     "execution_count": 26,
     "metadata": {},
     "output_type": "execute_result"
    }
   ],
   "source": [
    "t = QTable()\n",
    "t['a'] = [1, 4]\n",
    "t['b'] = [2.0, 5.0] * u.cm / u.s\n",
    "t['c'] = ['x', 'y']\n",
    "type(t['b'])"
   ]
  },
  {
   "cell_type": "code",
   "execution_count": 27,
   "id": "f771f10b",
   "metadata": {},
   "outputs": [
    {
     "data": {
      "text/html": [
       "<div><i>Table length=2</i>\n",
       "<table id=\"table4757010848\" class=\"table-striped table-bordered table-condensed\">\n",
       "<thead><tr><th>a</th><th>b</th><th>c</th></tr></thead>\n",
       "<thead><tr><th>int32</th><th>float64</th><th>str1</th></tr></thead>\n",
       "<tr><td>1</td><td>2.0</td><td>x</td></tr>\n",
       "<tr><td>4</td><td>5.0</td><td>y</td></tr>\n",
       "</table></div>"
      ],
      "text/plain": [
       "<Table length=2>\n",
       "  a      b     c  \n",
       "int32 float64 str1\n",
       "----- ------- ----\n",
       "    1     2.0    x\n",
       "    4     5.0    y"
      ]
     },
     "execution_count": 27,
     "metadata": {},
     "output_type": "execute_result"
    }
   ],
   "source": [
    "a = np.array([1, 4], dtype=np.int32)\n",
    "b = [2.0, 5.0]\n",
    "c = ['x', 'y']\n",
    "t = Table([a, b, c], names=('a', 'b', 'c'))\n",
    "t\n"
   ]
  },
  {
   "cell_type": "code",
   "execution_count": 28,
   "id": "b21f1416",
   "metadata": {},
   "outputs": [
    {
     "data": {
      "text/html": [
       "<div><i>Table length=2</i>\n",
       "<table id=\"table4757008448\" class=\"table-striped table-bordered table-condensed\">\n",
       "<thead><tr><th>c</th><th>a</th></tr></thead>\n",
       "<thead><tr><th>str1</th><th>int32</th></tr></thead>\n",
       "<tr><td>x</td><td>1</td></tr>\n",
       "<tr><td>y</td><td>4</td></tr>\n",
       "</table></div>"
      ],
      "text/plain": [
       "<Table length=2>\n",
       " c     a  \n",
       "str1 int32\n",
       "---- -----\n",
       "   x     1\n",
       "   y     4"
      ]
     },
     "execution_count": 28,
     "metadata": {},
     "output_type": "execute_result"
    }
   ],
   "source": [
    "Table([t['c'], t['a']])\n"
   ]
  },
  {
   "cell_type": "code",
   "execution_count": 29,
   "id": "3866fe25",
   "metadata": {},
   "outputs": [
    {
     "data": {
      "text/html": [
       "<div><i>Table length=2</i>\n",
       "<table id=\"table4757010416\" class=\"table-striped table-bordered table-condensed\">\n",
       "<thead><tr><th>a</th><th>b</th></tr></thead>\n",
       "<thead><tr><th>int32</th><th>float64</th></tr></thead>\n",
       "<tr><td>1</td><td>12.0</td></tr>\n",
       "<tr><td>16</td><td>15.0</td></tr>\n",
       "</table></div>"
      ],
      "text/plain": [
       "<Table length=2>\n",
       "  a      b   \n",
       "int32 float64\n",
       "----- -------\n",
       "    1    12.0\n",
       "   16    15.0"
      ]
     },
     "execution_count": 29,
     "metadata": {},
     "output_type": "execute_result"
    }
   ],
   "source": [
    "Table([t['a']**2, t['b'] + 10])\n"
   ]
  },
  {
   "cell_type": "code",
   "execution_count": 30,
   "id": "fa9bce2a",
   "metadata": {},
   "outputs": [
    {
     "data": {
      "text/html": [
       "<div><i>QTable length=2</i>\n",
       "<table id=\"table4756447088\" class=\"table-striped table-bordered table-condensed\">\n",
       "<thead><tr><th>col0</th><th>col1</th><th>axis</th><th>col3 [f0, f1]</th></tr></thead>\n",
       "<thead><tr><th></th><th></th><th></th><th>(m, m / s)</th></tr></thead>\n",
       "<thead><tr><th>float64</th><th>int64[2]</th><th>str1</th><th>(float64[3], float64[3])</th></tr></thead>\n",
       "<tr><td>1.0</td><td>2 .. 3</td><td>x</td><td>([1., 2., 3.], [0.1, 0.2, 0.3])</td></tr>\n",
       "<tr><td>4.0</td><td>5 .. 6</td><td>y</td><td>([4., 5., 6.], [0.4, 0.5, 0.6])</td></tr>\n",
       "</table></div>"
      ],
      "text/plain": [
       "<QTable length=2>\n",
       "  col0    col1   axis          col3 [f0, f1]         \n",
       "                                 (m, m / s)          \n",
       "float64 int64[2] str1     (float64[3], float64[3])   \n",
       "------- -------- ---- -------------------------------\n",
       "    1.0   2 .. 3    x ([1., 2., 3.], [0.1, 0.2, 0.3])\n",
       "    4.0   5 .. 6    y ([4., 5., 6.], [0.4, 0.5, 0.6])"
      ]
     },
     "execution_count": 30,
     "metadata": {},
     "output_type": "execute_result"
    }
   ],
   "source": [
    "a = (1., 4.)\n",
    "b = np.array([[2, 3], [5, 6]], dtype=np.int64)  # vector column\n",
    "c = Column(['x', 'y'], name='axis')\n",
    "d = u.Quantity([([1., 2., 3.], [.1, .2, .3]),\n",
    "                ([4., 5., 6.], [.4, .5, .6])], 'm,m/s')\n",
    "QTable([a, b, c, d])"
   ]
  },
  {
   "cell_type": "code",
   "execution_count": 31,
   "id": "ce837823",
   "metadata": {},
   "outputs": [
    {
     "data": {
      "text/html": [
       "<div><i>Table length=2</i>\n",
       "<table id=\"table4756446224\" class=\"table-striped table-bordered table-condensed\">\n",
       "<thead><tr><th>a</th><th>b</th><th>c</th></tr></thead>\n",
       "<thead><tr><th>int32</th><th>float64</th><th>str1</th></tr></thead>\n",
       "<tr><td>1</td><td>2.0</td><td>x</td></tr>\n",
       "<tr><td>4</td><td>5.0</td><td>y</td></tr>\n",
       "</table></div>"
      ],
      "text/plain": [
       "<Table length=2>\n",
       "  a      b     c  \n",
       "int32 float64 str1\n",
       "----- ------- ----\n",
       "    1     2.0    x\n",
       "    4     5.0    y"
      ]
     },
     "execution_count": 31,
     "metadata": {},
     "output_type": "execute_result"
    }
   ],
   "source": [
    "arr = {'a': np.array([1, 4], dtype=np.int32),\n",
    "       'b': [2.0, 5.0],\n",
    "       'c': ['x', 'y']}\n",
    "\n",
    "Table(arr)"
   ]
  },
  {
   "cell_type": "code",
   "execution_count": 32,
   "id": "debc2469",
   "metadata": {},
   "outputs": [
    {
     "data": {
      "text/html": [
       "<div><i>Table length=2</i>\n",
       "<table id=\"table4471490496\" class=\"table-striped table-bordered table-condensed\">\n",
       "<thead><tr><th>a</th><th>c</th><th>b</th></tr></thead>\n",
       "<thead><tr><th>float64</th><th>str2</th><th>int32</th></tr></thead>\n",
       "<tr><td>1.0</td><td>x</td><td>2</td></tr>\n",
       "<tr><td>4.0</td><td>y</td><td>5</td></tr>\n",
       "</table></div>"
      ],
      "text/plain": [
       "<Table length=2>\n",
       "   a     c     b  \n",
       "float64 str2 int32\n",
       "------- ---- -----\n",
       "    1.0    x     2\n",
       "    4.0    y     5"
      ]
     },
     "execution_count": 32,
     "metadata": {},
     "output_type": "execute_result"
    }
   ],
   "source": [
    "Table(arr, names=('a', 'c', 'b'), dtype=('f8', 'U2', 'i4'))\n"
   ]
  },
  {
   "cell_type": "code",
   "execution_count": 33,
   "id": "1634308d",
   "metadata": {},
   "outputs": [
    {
     "data": {
      "text/html": [
       "<div><i>Table length=2</i>\n",
       "<table id=\"table4757010032\" class=\"table-striped table-bordered table-condensed\">\n",
       "<thead><tr><th>a</th><th>b</th><th>c</th></tr></thead>\n",
       "<thead><tr><th>float64</th><th>int64[2]</th><th>str1</th></tr></thead>\n",
       "<tr><td>1.0</td><td>2 .. 3</td><td>x</td></tr>\n",
       "<tr><td>4.0</td><td>5 .. 6</td><td>y</td></tr>\n",
       "</table></div>"
      ],
      "text/plain": [
       "<Table length=2>\n",
       "   a       b      c  \n",
       "float64 int64[2] str1\n",
       "------- -------- ----\n",
       "    1.0   2 .. 3    x\n",
       "    4.0   5 .. 6    y"
      ]
     },
     "execution_count": 33,
     "metadata": {},
     "output_type": "execute_result"
    }
   ],
   "source": [
    "arr = {'a': (1., 4.),\n",
    "       'b': np.array([[2, 3], [5, 6]], dtype=np.int64),\n",
    "       'c': Column(['x', 'y'], name='axis')}\n",
    "Table(arr, names=('a', 'b', 'c'))"
   ]
  },
  {
   "cell_type": "code",
   "execution_count": 36,
   "id": "847baa92",
   "metadata": {},
   "outputs": [
    {
     "name": "stdout",
     "output_type": "stream",
     "text": [
      " a   b   c \n",
      "--- --- ---\n",
      "  1 2.0   x\n",
      "  4 5.0   y\n",
      "  5 8.2   z\n"
     ]
    }
   ],
   "source": [
    "data_rows = [(1, 2.0, 'x'),\n",
    "             (4, 5.0, 'y'),\n",
    "             (5, 8.2, 'z')]\n",
    "t = Table(rows=data_rows, names=('a', 'b', 'c'))\n",
    "print(t)\n"
   ]
  },
  {
   "cell_type": "code",
   "execution_count": 37,
   "id": "1f3e77ad",
   "metadata": {},
   "outputs": [
    {
     "name": "stdout",
     "output_type": "stream",
     "text": [
      " a   b \n",
      "--- ---\n",
      "  5  10\n",
      " 15  20\n"
     ]
    }
   ],
   "source": [
    "data = [{'a': 5, 'b': 10},\n",
    "        {'a': 15, 'b': 20}]\n",
    "t = Table(rows=data)\n",
    "print(t)\n"
   ]
  },
  {
   "cell_type": "code",
   "execution_count": 38,
   "id": "3c5280f7",
   "metadata": {},
   "outputs": [
    {
     "name": "stdout",
     "output_type": "stream",
     "text": [
      " a   b   c \n",
      "--- --- ---\n",
      "  5  10  --\n",
      " 15  --  50\n"
     ]
    }
   ],
   "source": [
    "t = Table(rows=[{'a': 5, 'b': 10}, {'a': 15, 'c': 50}])\n",
    "print(t)"
   ]
  },
  {
   "cell_type": "code",
   "execution_count": 39,
   "id": "920a55c6",
   "metadata": {},
   "outputs": [
    {
     "name": "stdout",
     "output_type": "stream",
     "text": [
      " b   a \n",
      "--- ---\n",
      " 10   5\n",
      " 20  15\n"
     ]
    }
   ],
   "source": [
    "data = [{'a': 5, 'b': 10},\n",
    "        {'a': 15, 'b': 20}]\n",
    "t = Table(rows=data, names=('b', 'a'))\n",
    "print(t)"
   ]
  },
  {
   "cell_type": "code",
   "execution_count": 40,
   "id": "15a8d984",
   "metadata": {},
   "outputs": [
    {
     "name": "stdout",
     "output_type": "stream",
     "text": [
      " b   c   a \n",
      "--- --- ---\n",
      " 10   7   5\n",
      " 20  35  15\n",
      " a   b   c \n",
      "--- --- ---\n",
      " --  10   7\n",
      " 15  20  35\n"
     ]
    }
   ],
   "source": [
    "data = [{'b': 10, 'c': 7, 'a': 5},\n",
    "        {'a': 15, 'c': 35, 'b': 20}]\n",
    "t = Table(rows=data)\n",
    "print(t)\n",
    "\n",
    "\n",
    "\n",
    "\n",
    "data = [{'b': 10, 'c': 7, },\n",
    "        {'a': 15, 'c': 35, 'b': 20}]\n",
    "t = Table(rows=data)\n",
    "print(t)\n"
   ]
  },
  {
   "cell_type": "code",
   "execution_count": 41,
   "id": "741a485c",
   "metadata": {},
   "outputs": [],
   "source": [
    "a = [1, 4]\n",
    "b = [2.0, 5.0]\n",
    "t = Table([a, b], names=('a', 'b'))\n",
    "t2 = Table(rows=t[1])"
   ]
  },
  {
   "cell_type": "code",
   "execution_count": 42,
   "id": "135d15ec",
   "metadata": {},
   "outputs": [],
   "source": [
    "arr = np.array([(1, 2.0, 'x'),\n",
    "                (4, 5.0, 'y')],\n",
    "               dtype=[('a', 'i4'), ('b', 'f8'), ('c', 'U2')])"
   ]
  },
  {
   "cell_type": "code",
   "execution_count": 43,
   "id": "23d9a87d",
   "metadata": {},
   "outputs": [
    {
     "data": {
      "text/html": [
       "<div><i>Table length=2</i>\n",
       "<table id=\"table4757998752\" class=\"table-striped table-bordered table-condensed\">\n",
       "<thead><tr><th>a</th><th>b</th><th>c</th></tr></thead>\n",
       "<thead><tr><th>int32</th><th>float64</th><th>str2</th></tr></thead>\n",
       "<tr><td>1</td><td>2.0</td><td>x</td></tr>\n",
       "<tr><td>4</td><td>5.0</td><td>y</td></tr>\n",
       "</table></div>"
      ],
      "text/plain": [
       "<Table length=2>\n",
       "  a      b     c  \n",
       "int32 float64 str2\n",
       "----- ------- ----\n",
       "    1     2.0    x\n",
       "    4     5.0    y"
      ]
     },
     "execution_count": 43,
     "metadata": {},
     "output_type": "execute_result"
    }
   ],
   "source": [
    "Table(arr)\n"
   ]
  },
  {
   "cell_type": "code",
   "execution_count": 44,
   "id": "2ae1b01a",
   "metadata": {},
   "outputs": [
    {
     "name": "stdout",
     "output_type": "stream",
     "text": [
      " a   b   c \n",
      "--- --- ---\n",
      "  1 2.0   x\n",
      "  4 5.0   y\n"
     ]
    }
   ],
   "source": [
    "table = Table(arr)\n",
    "print(table)"
   ]
  },
  {
   "cell_type": "code",
   "execution_count": 45,
   "id": "d8ab4992",
   "metadata": {},
   "outputs": [
    {
     "name": "stdout",
     "output_type": "stream",
     "text": [
      " name arr [a, b, c]\n",
      "----- -------------\n",
      "Micah  (1, 2., 'x')\n",
      "Mazzy  (4, 5., 'y')\n"
     ]
    }
   ],
   "source": [
    "table = Table()\n",
    "table['name'] = ['Micah', 'Mazzy']\n",
    "table['arr'] = arr\n",
    "print(table)\n"
   ]
  },
  {
   "cell_type": "code",
   "execution_count": 46,
   "id": "e3bebfff",
   "metadata": {},
   "outputs": [
    {
     "name": "stdout",
     "output_type": "stream",
     "text": [
      "arr\n",
      "---\n",
      "2.0\n",
      "5.0\n"
     ]
    }
   ],
   "source": [
    "print(table['arr']['b'])"
   ]
  },
  {
   "cell_type": "code",
   "execution_count": 47,
   "id": "d4a8ed6e",
   "metadata": {},
   "outputs": [
    {
     "data": {
      "text/html": [
       "<div><i>Table length=2</i>\n",
       "<table id=\"table4757997792\" class=\"table-striped table-bordered table-condensed\">\n",
       "<thead><tr><th>a_new</th><th>b_new</th><th>c_new</th></tr></thead>\n",
       "<thead><tr><th>int32</th><th>float64</th><th>str2</th></tr></thead>\n",
       "<tr><td>1</td><td>2.0</td><td>x</td></tr>\n",
       "<tr><td>4</td><td>5.0</td><td>y</td></tr>\n",
       "</table></div>"
      ],
      "text/plain": [
       "<Table length=2>\n",
       "a_new  b_new  c_new\n",
       "int32 float64  str2\n",
       "----- ------- -----\n",
       "    1     2.0     x\n",
       "    4     5.0     y"
      ]
     },
     "execution_count": 47,
     "metadata": {},
     "output_type": "execute_result"
    }
   ],
   "source": [
    "Table(arr, names=('a_new', 'b_new', 'c_new'))\n"
   ]
  },
  {
   "cell_type": "code",
   "execution_count": 48,
   "id": "b0a3577c",
   "metadata": {},
   "outputs": [
    {
     "data": {
      "text/html": [
       "<div><i>Table length=2</i>\n",
       "<table id=\"table4754650016\" class=\"table-striped table-bordered table-condensed\">\n",
       "<thead><tr><th>a_new</th><th>b_new</th><th>c_new</th></tr></thead>\n",
       "<thead><tr><th>float32</th><th>int32</th><th>str4</th></tr></thead>\n",
       "<tr><td>1.0</td><td>2</td><td>x</td></tr>\n",
       "<tr><td>4.0</td><td>5</td><td>y</td></tr>\n",
       "</table></div>"
      ],
      "text/plain": [
       "<Table length=2>\n",
       " a_new  b_new c_new\n",
       "float32 int32  str4\n",
       "------- ----- -----\n",
       "    1.0     2     x\n",
       "    4.0     5     y"
      ]
     },
     "execution_count": 48,
     "metadata": {},
     "output_type": "execute_result"
    }
   ],
   "source": [
    "Table(arr, dtype=('f4', 'i4', 'U4'))\n",
    "\n",
    "\n",
    "\n",
    "\n",
    "\n",
    "\n",
    "\n",
    "Table(arr, names=('a_new', 'b_new', 'c_new'), dtype=('f4', 'i4', 'U4'))\n"
   ]
  },
  {
   "cell_type": "code",
   "execution_count": 49,
   "id": "64e181cd",
   "metadata": {},
   "outputs": [
    {
     "data": {
      "text/html": [
       "<div><i>Table length=1</i>\n",
       "<table id=\"table4757998176\" class=\"table-striped table-bordered table-condensed\">\n",
       "<thead><tr><th>a</th><th>b</th><th>c</th></tr></thead>\n",
       "<thead><tr><th>int64</th><th>int64</th><th>int64</th></tr></thead>\n",
       "<tr><td>1</td><td>2</td><td>3</td></tr>\n",
       "</table></div>"
      ],
      "text/plain": [
       "<Table length=1>\n",
       "  a     b     c  \n",
       "int64 int64 int64\n",
       "----- ----- -----\n",
       "    1     2     3"
      ]
     },
     "execution_count": 49,
     "metadata": {},
     "output_type": "execute_result"
    }
   ],
   "source": [
    "Table(np.array([1, 2, 3]), names=['a', 'b', 'c'], dtype=('i8', 'i8', 'i8'))\n"
   ]
  },
  {
   "cell_type": "code",
   "execution_count": 50,
   "id": "e3e51b1c",
   "metadata": {},
   "outputs": [
    {
     "data": {
      "text/html": [
       "<div><i>Table length=2</i>\n",
       "<table id=\"table4754560768\" class=\"table-striped table-bordered table-condensed\">\n",
       "<thead><tr><th>col0</th><th>col1</th><th>col2</th></tr></thead>\n",
       "<thead><tr><th>int32</th><th>int32</th><th>int32</th></tr></thead>\n",
       "<tr><td>1</td><td>2</td><td>3</td></tr>\n",
       "<tr><td>4</td><td>5</td><td>6</td></tr>\n",
       "</table></div>"
      ],
      "text/plain": [
       "<Table length=2>\n",
       " col0  col1  col2\n",
       "int32 int32 int32\n",
       "----- ----- -----\n",
       "    1     2     3\n",
       "    4     5     6"
      ]
     },
     "execution_count": 50,
     "metadata": {},
     "output_type": "execute_result"
    }
   ],
   "source": [
    "arr = np.array([[1, 2, 3],\n",
    "                [4, 5, 6]], dtype=np.int32)\n",
    "Table(arr)"
   ]
  },
  {
   "cell_type": "code",
   "execution_count": 51,
   "id": "9e3e5cdb",
   "metadata": {},
   "outputs": [
    {
     "data": {
      "text/html": [
       "<div><i>Table length=2</i>\n",
       "<table id=\"table4757011280\" class=\"table-striped table-bordered table-condensed\">\n",
       "<thead><tr><th>a_new</th><th>b_new</th><th>c_new</th></tr></thead>\n",
       "<thead><tr><th>float32</th><th>int32</th><th>str4</th></tr></thead>\n",
       "<tr><td>1.0</td><td>2</td><td>3</td></tr>\n",
       "<tr><td>4.0</td><td>5</td><td>6</td></tr>\n",
       "</table></div>"
      ],
      "text/plain": [
       "<Table length=2>\n",
       " a_new  b_new c_new\n",
       "float32 int32  str4\n",
       "------- ----- -----\n",
       "    1.0     2     3\n",
       "    4.0     5     6"
      ]
     },
     "execution_count": 51,
     "metadata": {},
     "output_type": "execute_result"
    }
   ],
   "source": [
    "Table(arr, names=('a_new', 'b_new', 'c_new'), dtype=('f4', 'i4', 'U4'))\n"
   ]
  },
  {
   "cell_type": "code",
   "execution_count": 52,
   "id": "5447be09",
   "metadata": {},
   "outputs": [],
   "source": [
    "t = Table(arr, copy=False)\n"
   ]
  },
  {
   "cell_type": "code",
   "execution_count": 53,
   "id": "19d2004e",
   "metadata": {},
   "outputs": [
    {
     "name": "stdout",
     "output_type": "stream",
     "text": [
      "col0 col1\n",
      "---- ----\n",
      "   1    4\n",
      "   2    5\n",
      "   3    6\n",
      "col0 col1 col2\n",
      "---- ---- ----\n",
      "   1    2    3\n",
      "   4    5    6\n"
     ]
    }
   ],
   "source": [
    "arr = [[1, 2, 3],\n",
    "       [4, 5, 6]]\n",
    "np_arr = np.array(arr)\n",
    "\n",
    "print(Table(arr))    # Two columns, three rows\n",
    "\n",
    "\n",
    "\n",
    "\n",
    "\n",
    "\n",
    "print(Table(np_arr))  # Three columns, two rows"
   ]
  },
  {
   "cell_type": "code",
   "execution_count": 54,
   "id": "42ba8934",
   "metadata": {},
   "outputs": [
    {
     "data": {
      "text/html": [
       "<div><i>Table length=0</i>\n",
       "<table id=\"table4757996784\" class=\"table-striped table-bordered table-condensed\">\n",
       "<thead><tr><th>c</th><th>b</th><th>a</th></tr></thead>\n",
       "<thead><tr><th>float64</th><th>float64</th><th>float64</th></tr></thead>\n",
       "</table></div>"
      ],
      "text/plain": [
       "<Table length=0>\n",
       "   c       b       a   \n",
       "float64 float64 float64\n",
       "------- ------- -------"
      ]
     },
     "execution_count": 54,
     "metadata": {},
     "output_type": "execute_result"
    }
   ],
   "source": [
    "t = Table(names=('a', 'b', 'c'))\n",
    "t['c', 'b', 'a']  # Makes a copy of the data\n"
   ]
  },
  {
   "cell_type": "code",
   "execution_count": 55,
   "id": "68572e8f",
   "metadata": {},
   "outputs": [
    {
     "data": {
      "text/html": [
       "<div><i>Table length=0</i>\n",
       "<table id=\"table4754559280\" class=\"table-striped table-bordered table-condensed\">\n",
       "<thead><tr><th>a</th><th>c</th></tr></thead>\n",
       "<thead><tr><th>float64</th><th>float64</th></tr></thead>\n",
       "</table></div>"
      ],
      "text/plain": [
       "<Table length=0>\n",
       "   a       c   \n",
       "float64 float64\n",
       "------- -------"
      ]
     },
     "execution_count": 55,
     "metadata": {},
     "output_type": "execute_result"
    }
   ],
   "source": [
    "Table(t.columns[0:2])\n",
    "\n",
    "\n",
    "\n",
    "\n",
    "\n",
    "Table([t.columns[0], t.columns['c']])\n"
   ]
  },
  {
   "cell_type": "code",
   "execution_count": 56,
   "id": "33217d7e",
   "metadata": {},
   "outputs": [
    {
     "data": {
      "text/html": [
       "<div><i>Table length=0</i>\n",
       "<table id=\"table4755460208\" class=\"table-striped table-bordered table-condensed\">\n",
       "<thead><tr><th>x</th><th>y</th></tr></thead>\n",
       "<thead><tr><th>float64</th><th>float64</th></tr></thead>\n",
       "</table></div>"
      ],
      "text/plain": [
       "<Table length=0>\n",
       "   x       y   \n",
       "float64 float64\n",
       "------- -------"
      ]
     },
     "execution_count": 56,
     "metadata": {},
     "output_type": "execute_result"
    }
   ],
   "source": [
    "t = Table([[1.0, 2.3], [2.1, 3]], names=['x', 'y'])\n",
    "t\n",
    "\n",
    "\n",
    "\n",
    "\n",
    "\n",
    "\n",
    "\n",
    "tcopy = t[:0].copy()\n",
    "tcopy\n"
   ]
  },
  {
   "cell_type": "code",
   "execution_count": 57,
   "id": "bac457df",
   "metadata": {},
   "outputs": [
    {
     "data": {
      "text/html": [
       "<div><i>Table length=3</i>\n",
       "<table id=\"table4757999136\" class=\"table-striped table-bordered table-condensed\">\n",
       "<thead><tr><th>a</th><th>b</th><th>c</th></tr></thead>\n",
       "<thead><tr><th>int32</th><th>float64</th><th>bool</th></tr></thead>\n",
       "<tr><td>0</td><td>0.0</td><td>False</td></tr>\n",
       "<tr><td>0</td><td>0.0</td><td>False</td></tr>\n",
       "<tr><td>0</td><td>0.0</td><td>False</td></tr>\n",
       "</table></div>"
      ],
      "text/plain": [
       "<Table length=3>\n",
       "  a      b      c  \n",
       "int32 float64  bool\n",
       "----- ------- -----\n",
       "    0     0.0 False\n",
       "    0     0.0 False\n",
       "    0     0.0 False"
      ]
     },
     "execution_count": 57,
     "metadata": {},
     "output_type": "execute_result"
    }
   ],
   "source": [
    "N = 3\n",
    "dtype = [('a', 'i4'), ('b', 'f8'), ('c', 'bool')]\n",
    "t = Table(data=np.zeros(N, dtype=dtype))\n",
    "t\n",
    "\n"
   ]
  },
  {
   "cell_type": "code",
   "execution_count": 58,
   "id": "4d148f31",
   "metadata": {},
   "outputs": [
    {
     "data": {
      "text/html": [
       "<div><i>Table length=3</i>\n",
       "<table id=\"table4757999136\" class=\"table-striped table-bordered table-condensed\">\n",
       "<thead><tr><th>a</th><th>b</th><th>c</th></tr></thead>\n",
       "<thead><tr><th>int32</th><th>float64</th><th>bool</th></tr></thead>\n",
       "<tr><td>0</td><td>0.0</td><td>False</td></tr>\n",
       "<tr><td>1</td><td>2.5</td><td>True</td></tr>\n",
       "<tr><td>2</td><td>5.0</td><td>False</td></tr>\n",
       "</table></div>"
      ],
      "text/plain": [
       "<Table length=3>\n",
       "  a      b      c  \n",
       "int32 float64  bool\n",
       "----- ------- -----\n",
       "    0     0.0 False\n",
       "    1     2.5  True\n",
       "    2     5.0 False"
      ]
     },
     "execution_count": 58,
     "metadata": {},
     "output_type": "execute_result"
    }
   ],
   "source": [
    "for i in range(len(t)):\n",
    "    t[i] = (i, 2.5*i, i % 2)\n",
    "t"
   ]
  },
  {
   "cell_type": "code",
   "execution_count": 59,
   "id": "3304f557",
   "metadata": {},
   "outputs": [
    {
     "name": "stdout",
     "output_type": "stream",
     "text": [
      "# Here is my explanatory text. This is awesome.\n",
      "# Second comment line.\n",
      "a b c\n",
      "1.0 2 x\n"
     ]
    }
   ],
   "source": [
    "import sys\n",
    "from astropy.table import Table\n",
    "t = Table(names=('a', 'b', 'c'), dtype=('f4', 'i4', 'S2'))\n",
    "t.add_row((1, 2.0, 'x'))\n",
    "t.meta['comments'] = ['Here is my explanatory text. This is awesome.',\n",
    "                      'Second comment line.']\n",
    "t.write(sys.stdout, format='ascii')\n"
   ]
  },
  {
   "cell_type": "code",
   "execution_count": 60,
   "id": "52a08bca",
   "metadata": {},
   "outputs": [
    {
     "name": "stdout",
     "output_type": "stream",
     "text": [
      "[1 4]\n",
      "[ 1 99]\n"
     ]
    }
   ],
   "source": [
    "arr = np.array([(1, 2.0, 'x'),\n",
    "                (4, 5.0, 'y')],\n",
    "               dtype=[('a', 'i8'), ('b', 'f8'), ('c', 'S2')])\n",
    "print(arr['a'])  # column \"a\" of the input array\n",
    "\n",
    "t = Table(arr, copy=False)\n",
    "t['a'][1] = 99\n",
    "print(arr['a'])  # arr['a'] got changed when we modified t['a']"
   ]
  },
  {
   "cell_type": "code",
   "execution_count": 61,
   "id": "cfe37e96",
   "metadata": {},
   "outputs": [
    {
     "name": "stdout",
     "output_type": "stream",
     "text": [
      "\\begin{table}\n",
      "\\begin{tabular}{cc}\n",
      "a & b \\\\\n",
      "1.0000 & $  1.2 \\times 10^{ +9 }$ \\\\\n",
      "2.0000 & $  2.3 \\times 10^{ -12 }$ \\\\\n",
      "\\end{tabular}\n",
      "\\end{table}\n"
     ]
    },
    {
     "name": "stderr",
     "output_type": "stream",
     "text": [
      "/var/folders/xj/0mk4jn0d0x1dh7w33nl5g1740000gp/T/ipykernel_40064/1423339432.py:3: FutureWarning: Format strings passed to MaskedConstant are ignored, but in future may error or produce different behavior\n",
      "  val = f'{value:8.2}'\n"
     ]
    }
   ],
   "source": [
    "t = Table([[1,2],[1.234e9,2.34e-12]], names = ('a','b'))\n",
    "def latex_exp(value):\n",
    "    val = f'{value:8.2}'\n",
    "    mant, exp = val.split('e')\n",
    "    # remove leading zeros\n",
    "    exp = exp[0] + exp[1:].lstrip('0')\n",
    "    return f'$ {mant} \\\\times 10^{{ {exp} }}$'\n",
    "t['b'].format = latex_exp\n",
    "t['a'].format = '.4f'\n",
    "import sys\n",
    "t.write(sys.stdout, format='latex')\n"
   ]
  },
  {
   "cell_type": "code",
   "execution_count": 62,
   "id": "09e2680b",
   "metadata": {},
   "outputs": [
    {
     "data": {
      "text/plain": [
       "<TableColumns names=('d','c','b')>"
      ]
     },
     "execution_count": 62,
     "metadata": {},
     "output_type": "execute_result"
    }
   ],
   "source": [
    "t = Table(names=('a', 'b', 'c', 'd'))\n",
    "\n",
    "t.columns['d', 'c', 'b']\n"
   ]
  },
  {
   "cell_type": "code",
   "execution_count": 63,
   "id": "8320dad8",
   "metadata": {},
   "outputs": [
    {
     "data": {
      "text/plain": [
       "<TableColumns names=('d','c','b','a')>"
      ]
     },
     "execution_count": 63,
     "metadata": {},
     "output_type": "execute_result"
    }
   ],
   "source": [
    "t.columns[0:2]  # Select first two columns\n",
    "\n",
    "\n",
    "t.columns[::-1]  # Reverse column order"
   ]
  },
  {
   "cell_type": "code",
   "execution_count": 64,
   "id": "4f2fed7a",
   "metadata": {},
   "outputs": [
    {
     "data": {
      "text/html": [
       "&lt;Column name=&apos;b&apos; dtype=&apos;float64&apos; length=0&gt;\n",
       "<table>\n",
       "</table>"
      ],
      "text/plain": [
       "<Column name='b' dtype='float64' length=0>"
      ]
     },
     "execution_count": 64,
     "metadata": {},
     "output_type": "execute_result"
    }
   ],
   "source": [
    "t.columns[1]  # Choose a column by index\n",
    "\n",
    "\n",
    "t.columns['b']  # Choose a column by name"
   ]
  },
  {
   "cell_type": "code",
   "execution_count": 65,
   "id": "8cf9781e",
   "metadata": {},
   "outputs": [],
   "source": [
    "from astropy.table import Table, Row, Column, MaskedColumn, TableColumns, TableFormatter\n",
    "\n",
    "class MyRow(Row): pass\n",
    "class MyColumn(Column): pass\n",
    "class MyMaskedColumn(MaskedColumn): pass\n",
    "class MyTableColumns(TableColumns): pass\n",
    "class MyTableFormatter(TableFormatter): pass\n",
    "\n",
    "class MyTable(Table):\n",
    "    \"\"\"\n",
    "    Custom subclass of astropy.table.Table\n",
    "    \"\"\"\n",
    "    Row = MyRow  # Use MyRow to create a row object\n",
    "    Column = MyColumn  # Column\n",
    "    MaskedColumn = MyMaskedColumn  # Masked Column\n",
    "    TableColumns = MyTableColumns  # Ordered dict holding Column objects\n",
    "    TableFormatter = MyTableFormatter  # Controls table output"
   ]
  },
  {
   "cell_type": "code",
   "execution_count": 66,
   "id": "5fdd1c76",
   "metadata": {},
   "outputs": [],
   "source": [
    "from astropy.table import Table, Row\n",
    "class ParamsRow(Row):\n",
    "   \"\"\"\n",
    "   Row class that allows access to an arbitrary dict of parameters\n",
    "   stored as a dict object in the ``params`` column.\n",
    "   \"\"\"\n",
    "   def __getitem__(self, item):\n",
    "       if item not in self.colnames:\n",
    "           return super().__getitem__('params')[item]\n",
    "       else:\n",
    "           return super().__getitem__(item)\n",
    "\n",
    "   def keys(self):\n",
    "       out = [name for name in self.colnames if name != 'params']\n",
    "       params = [key.lower() for key in sorted(self['params'])]\n",
    "       return out + params\n",
    "\n",
    "   def values(self):\n",
    "       return [self[key] for key in self.keys()]"
   ]
  },
  {
   "cell_type": "code",
   "execution_count": 67,
   "id": "e6972435",
   "metadata": {},
   "outputs": [],
   "source": [
    "class ParamsTable(Table):\n",
    "    Row = ParamsRow"
   ]
  },
  {
   "cell_type": "code",
   "execution_count": 68,
   "id": "4a681ea9",
   "metadata": {},
   "outputs": [
    {
     "name": "stdout",
     "output_type": "stream",
     "text": [
      " a   b             params           \n",
      "--- --- ----------------------------\n",
      "  1 2.0         {'x': 1.5, 'y': 2.5}\n",
      "  2 3.0 {'z': 'hello', 'id': 123123}\n"
     ]
    }
   ],
   "source": [
    "t = ParamsTable(names=['a', 'b', 'params'], dtype=['i', 'f', 'O'])\n",
    "t.add_row((1, 2.0, {'x': 1.5, 'y': 2.5}))\n",
    "t.add_row((2, 3.0, {'z': 'hello', 'id': 123123}))\n",
    "print(t)"
   ]
  },
  {
   "cell_type": "code",
   "execution_count": 69,
   "id": "81337ca5",
   "metadata": {},
   "outputs": [
    {
     "data": {
      "text/plain": [
       "[2, 3.0, 123123, 'hello']"
      ]
     },
     "execution_count": 69,
     "metadata": {},
     "output_type": "execute_result"
    }
   ],
   "source": [
    "t[0]['y']\n",
    "\n",
    "t[1]['id']\n",
    "\n",
    "t[1].keys()\n",
    "\n",
    "t[1].values()\n"
   ]
  },
  {
   "cell_type": "code",
   "execution_count": 70,
   "id": "4d69c00c",
   "metadata": {},
   "outputs": [
    {
     "data": {
      "text/plain": [
       "astropy.units.quantity.Quantity"
      ]
     },
     "execution_count": 70,
     "metadata": {},
     "output_type": "execute_result"
    }
   ],
   "source": [
    "from astropy.table import QTable\n",
    "from astropy import units as u\n",
    "t = QTable()\n",
    "t['velocity'] = [3, 4] * u.m / u.s\n",
    "type(t['velocity'])"
   ]
  },
  {
   "cell_type": "code",
   "execution_count": 71,
   "id": "5f57e36d",
   "metadata": {},
   "outputs": [
    {
     "data": {
      "text/latex": [
       "$\\mathrm{\\frac{m}{s}}$"
      ],
      "text/plain": [
       "Unit(\"m / s\")"
      ]
     },
     "execution_count": 71,
     "metadata": {},
     "output_type": "execute_result"
    }
   ],
   "source": [
    "from astropy.table import Table\n",
    "t = Table()\n",
    "t['velocity'] = [3, 4] * u.m / u.s\n",
    "type(t['velocity'])\n",
    "\n",
    "t['velocity'].unit"
   ]
  },
  {
   "cell_type": "code",
   "execution_count": 73,
   "id": "afd6ea7d",
   "metadata": {},
   "outputs": [],
   "source": [
    "class DictTable(dict):\n",
    "    \"\"\"\n",
    "    Trivial \"table\" class that just uses a dict to hold columns.\n",
    "    This does not actually implement anything useful that makes\n",
    "    this a table.\n",
    "\n",
    "    The non-standard ``strict_copy=False`` keyword arg here will be passed\n",
    "    via the **kwargs of Table __init__().\n",
    "    \"\"\"\n",
    "\n",
    "    def __astropy_table__(self, cls, copy, strict_copy=False, **kwargs):\n",
    "        \"\"\"\n",
    "        Return an astropy Table of type ``cls``.\n",
    "\n",
    "        Parameters\n",
    "        ----------\n",
    "        cls : type\n",
    "             Astropy ``Table`` class or subclass.\n",
    "        copy : bool\n",
    "             Copy input data (True) or return a reference (False).\n",
    "        strict_copy : bool, optional\n",
    "             Raise an exception if copy is False but reference is not\n",
    "             possible.\n",
    "        **kwargs : dict, optional\n",
    "             Additional keyword args (ignored currently).\n",
    "        \"\"\"\n",
    "        if kwargs:\n",
    "            warnings.warn(f'unexpected keyword args {kwargs}')\n",
    "\n",
    "        cols = list(self.values())\n",
    "        names = list(self.keys())\n",
    "\n",
    "        # If returning a reference to existing data (copy=False) and\n",
    "        # strict_copy=True, make sure that each column is a numpy ndarray.\n",
    "        # If a column is a Python list or tuple then it must be copied for\n",
    "        # representation in an astropy Table.\n",
    "\n",
    "        if not copy and strict_copy:\n",
    "            for name, col in zip(names, cols):\n",
    "                if not isinstance(col, np.ndarray):\n",
    "                    raise ValueError(f'cannot have copy=False because column {name} is '\n",
    "                                     'not an ndarray')\n",
    "\n",
    "        return cls(cols, names=names, copy=copy)"
   ]
  },
  {
   "cell_type": "code",
   "execution_count": 74,
   "id": "86f6e482",
   "metadata": {},
   "outputs": [
    {
     "data": {
      "text/html": [
       "<div><i>Table length=2</i>\n",
       "<table id=\"table4758141344\" class=\"table-striped table-bordered table-condensed\">\n",
       "<thead><tr><th>velocity</th></tr></thead>\n",
       "<thead><tr><th>m / s</th></tr></thead>\n",
       "<thead><tr><th>float64</th></tr></thead>\n",
       "<tr><td>3.0</td></tr>\n",
       "<tr><td>4.0</td></tr>\n",
       "</table></div>"
      ],
      "text/plain": [
       "<Table length=2>\n",
       "velocity\n",
       " m / s  \n",
       "float64 \n",
       "--------\n",
       "     3.0\n",
       "     4.0"
      ]
     },
     "execution_count": 74,
     "metadata": {},
     "output_type": "execute_result"
    }
   ],
   "source": [
    "t"
   ]
  },
  {
   "cell_type": "code",
   "execution_count": 76,
   "id": "18d6629b",
   "metadata": {},
   "outputs": [
    {
     "name": "stdout",
     "output_type": "stream",
     "text": [
      "velocity\n",
      " m / s  \n",
      "--------\n",
      "     3.0\n",
      "     4.0\n"
     ]
    }
   ],
   "source": [
    "print(t)\n"
   ]
  },
  {
   "cell_type": "code",
   "execution_count": 77,
   "id": "6baf9122",
   "metadata": {},
   "outputs": [
    {
     "name": "stdout",
     "output_type": "stream",
     "text": [
      "velocity\n",
      " m / s  \n",
      "--------\n",
      "     3.0\n",
      "     4.0\n"
     ]
    }
   ],
   "source": [
    "##similar, but nicer when there are lots and lots of rows/columns\n",
    "t.pprint()"
   ]
  },
  {
   "cell_type": "code",
   "execution_count": 78,
   "id": "f8400686",
   "metadata": {},
   "outputs": [
    {
     "data": {
      "text/plain": [
       "['velocity']"
      ]
     },
     "execution_count": 78,
     "metadata": {},
     "output_type": "execute_result"
    }
   ],
   "source": [
    "t.colnames\n"
   ]
  },
  {
   "cell_type": "code",
   "execution_count": 79,
   "id": "e5f39785",
   "metadata": {},
   "outputs": [
    {
     "data": {
      "text/plain": [
       "dtype([('velocity', '<f8')])"
      ]
     },
     "execution_count": 79,
     "metadata": {},
     "output_type": "execute_result"
    }
   ],
   "source": [
    "t.dtype\n"
   ]
  },
  {
   "cell_type": "code",
   "execution_count": 80,
   "id": "85c129c8",
   "metadata": {},
   "outputs": [
    {
     "data": {
      "text/html": [
       "<i>Table length=2</i>\n",
       "<table id=\"table4758141344-417771\" class=\"table-striped table-bordered table-condensed\">\n",
       "<thead><tr><th>idx</th><th>velocity</th></tr></thead>\n",
       "<thead><tr><th></th><th>m / s</th></tr></thead>\n",
       "<tr><td>0</td><td>3.0</td></tr>\n",
       "<tr><td>1</td><td>4.0</td></tr>\n",
       "</table><style>table.dataTable {clear: both; width: auto !important; margin: 0 !important;}\n",
       ".dataTables_info, .dataTables_length, .dataTables_filter, .dataTables_paginate{\n",
       "display: inline-block; margin-right: 1em; }\n",
       ".paginate_button { margin-right: 5px; }\n",
       "</style>\n",
       "<script>\n",
       "\n",
       "var astropy_sort_num = function(a, b) {\n",
       "    var a_num = parseFloat(a);\n",
       "    var b_num = parseFloat(b);\n",
       "\n",
       "    if (isNaN(a_num) && isNaN(b_num))\n",
       "        return ((a < b) ? -1 : ((a > b) ? 1 : 0));\n",
       "    else if (!isNaN(a_num) && !isNaN(b_num))\n",
       "        return ((a_num < b_num) ? -1 : ((a_num > b_num) ? 1 : 0));\n",
       "    else\n",
       "        return isNaN(a_num) ? -1 : 1;\n",
       "}\n",
       "\n",
       "require.config({paths: {\n",
       "    datatables: 'https://cdn.datatables.net/1.10.12/js/jquery.dataTables.min'\n",
       "}});\n",
       "require([\"datatables\"], function(){\n",
       "    console.log(\"$('#table4758141344-417771').dataTable()\");\n",
       "    \n",
       "jQuery.extend( jQuery.fn.dataTableExt.oSort, {\n",
       "    \"optionalnum-asc\": astropy_sort_num,\n",
       "    \"optionalnum-desc\": function (a,b) { return -astropy_sort_num(a, b); }\n",
       "});\n",
       "\n",
       "    $('#table4758141344-417771').dataTable({\n",
       "        order: [],\n",
       "        pageLength: 50,\n",
       "        lengthMenu: [[10, 25, 50, 100, 500, 1000, -1], [10, 25, 50, 100, 500, 1000, 'All']],\n",
       "        pagingType: \"full_numbers\",\n",
       "        columnDefs: [{targets: [0, 1], type: \"optionalnum\"}]\n",
       "    });\n",
       "});\n",
       "</script>\n"
      ],
      "text/plain": [
       "<IPython.core.display.HTML object>"
      ]
     },
     "execution_count": 80,
     "metadata": {},
     "output_type": "execute_result"
    }
   ],
   "source": [
    "t.show_in_notebook()\n"
   ]
  },
  {
   "cell_type": "code",
   "execution_count": 86,
   "id": "21d86987",
   "metadata": {},
   "outputs": [
    {
     "ename": "KeyError",
     "evalue": "'flux'",
     "output_type": "error",
     "traceback": [
      "\u001b[0;31m---------------------------------------------------------------------------\u001b[0m",
      "\u001b[0;31mKeyError\u001b[0m                                  Traceback (most recent call last)",
      "\u001b[0;32m/var/folders/xj/0mk4jn0d0x1dh7w33nl5g1740000gp/T/ipykernel_40064/2267325239.py\u001b[0m in \u001b[0;36m<module>\u001b[0;34m\u001b[0m\n\u001b[0;32m----> 1\u001b[0;31m \u001b[0mmask\u001b[0m \u001b[0;34m=\u001b[0m \u001b[0mt\u001b[0m\u001b[0;34m[\u001b[0m\u001b[0;34m'flux'\u001b[0m\u001b[0;34m]\u001b[0m \u001b[0;34m>\u001b[0m \u001b[0;36m3.0\u001b[0m  \u001b[0;31m# Define boolean (True/False) mask for all flux values > 3\u001b[0m\u001b[0;34m\u001b[0m\u001b[0;34m\u001b[0m\u001b[0m\n\u001b[0m\u001b[1;32m      2\u001b[0m \u001b[0mmask\u001b[0m\u001b[0;34m\u001b[0m\u001b[0;34m\u001b[0m\u001b[0m\n",
      "\u001b[0;32m/opt/anaconda3/lib/python3.9/site-packages/astropy/table/table.py\u001b[0m in \u001b[0;36m__getitem__\u001b[0;34m(self, item)\u001b[0m\n\u001b[1;32m   1870\u001b[0m     \u001b[0;32mdef\u001b[0m \u001b[0m__getitem__\u001b[0m\u001b[0;34m(\u001b[0m\u001b[0mself\u001b[0m\u001b[0;34m,\u001b[0m \u001b[0mitem\u001b[0m\u001b[0;34m)\u001b[0m\u001b[0;34m:\u001b[0m\u001b[0;34m\u001b[0m\u001b[0;34m\u001b[0m\u001b[0m\n\u001b[1;32m   1871\u001b[0m         \u001b[0;32mif\u001b[0m \u001b[0misinstance\u001b[0m\u001b[0;34m(\u001b[0m\u001b[0mitem\u001b[0m\u001b[0;34m,\u001b[0m \u001b[0mstr\u001b[0m\u001b[0;34m)\u001b[0m\u001b[0;34m:\u001b[0m\u001b[0;34m\u001b[0m\u001b[0;34m\u001b[0m\u001b[0m\n\u001b[0;32m-> 1872\u001b[0;31m             \u001b[0;32mreturn\u001b[0m \u001b[0mself\u001b[0m\u001b[0;34m.\u001b[0m\u001b[0mcolumns\u001b[0m\u001b[0;34m[\u001b[0m\u001b[0mitem\u001b[0m\u001b[0;34m]\u001b[0m\u001b[0;34m\u001b[0m\u001b[0;34m\u001b[0m\u001b[0m\n\u001b[0m\u001b[1;32m   1873\u001b[0m         \u001b[0;32melif\u001b[0m \u001b[0misinstance\u001b[0m\u001b[0;34m(\u001b[0m\u001b[0mitem\u001b[0m\u001b[0;34m,\u001b[0m \u001b[0;34m(\u001b[0m\u001b[0mint\u001b[0m\u001b[0;34m,\u001b[0m \u001b[0mnp\u001b[0m\u001b[0;34m.\u001b[0m\u001b[0minteger\u001b[0m\u001b[0;34m)\u001b[0m\u001b[0;34m)\u001b[0m\u001b[0;34m:\u001b[0m\u001b[0;34m\u001b[0m\u001b[0;34m\u001b[0m\u001b[0m\n\u001b[1;32m   1874\u001b[0m             \u001b[0;32mreturn\u001b[0m \u001b[0mself\u001b[0m\u001b[0;34m.\u001b[0m\u001b[0mRow\u001b[0m\u001b[0;34m(\u001b[0m\u001b[0mself\u001b[0m\u001b[0;34m,\u001b[0m \u001b[0mitem\u001b[0m\u001b[0;34m)\u001b[0m\u001b[0;34m\u001b[0m\u001b[0;34m\u001b[0m\u001b[0m\n",
      "\u001b[0;32m/opt/anaconda3/lib/python3.9/site-packages/astropy/table/table.py\u001b[0m in \u001b[0;36m__getitem__\u001b[0;34m(self, item)\u001b[0m\n\u001b[1;32m    244\u001b[0m         \"\"\"\n\u001b[1;32m    245\u001b[0m         \u001b[0;32mif\u001b[0m \u001b[0misinstance\u001b[0m\u001b[0;34m(\u001b[0m\u001b[0mitem\u001b[0m\u001b[0;34m,\u001b[0m \u001b[0mstr\u001b[0m\u001b[0;34m)\u001b[0m\u001b[0;34m:\u001b[0m\u001b[0;34m\u001b[0m\u001b[0;34m\u001b[0m\u001b[0m\n\u001b[0;32m--> 246\u001b[0;31m             \u001b[0;32mreturn\u001b[0m \u001b[0mOrderedDict\u001b[0m\u001b[0;34m.\u001b[0m\u001b[0m__getitem__\u001b[0m\u001b[0;34m(\u001b[0m\u001b[0mself\u001b[0m\u001b[0;34m,\u001b[0m \u001b[0mitem\u001b[0m\u001b[0;34m)\u001b[0m\u001b[0;34m\u001b[0m\u001b[0;34m\u001b[0m\u001b[0m\n\u001b[0m\u001b[1;32m    247\u001b[0m         \u001b[0;32melif\u001b[0m \u001b[0misinstance\u001b[0m\u001b[0;34m(\u001b[0m\u001b[0mitem\u001b[0m\u001b[0;34m,\u001b[0m \u001b[0;34m(\u001b[0m\u001b[0mint\u001b[0m\u001b[0;34m,\u001b[0m \u001b[0mnp\u001b[0m\u001b[0;34m.\u001b[0m\u001b[0minteger\u001b[0m\u001b[0;34m)\u001b[0m\u001b[0;34m)\u001b[0m\u001b[0;34m:\u001b[0m\u001b[0;34m\u001b[0m\u001b[0;34m\u001b[0m\u001b[0m\n\u001b[1;32m    248\u001b[0m             \u001b[0;32mreturn\u001b[0m \u001b[0mlist\u001b[0m\u001b[0;34m(\u001b[0m\u001b[0mself\u001b[0m\u001b[0;34m.\u001b[0m\u001b[0mvalues\u001b[0m\u001b[0;34m(\u001b[0m\u001b[0;34m)\u001b[0m\u001b[0;34m)\u001b[0m\u001b[0;34m[\u001b[0m\u001b[0mitem\u001b[0m\u001b[0;34m]\u001b[0m\u001b[0;34m\u001b[0m\u001b[0;34m\u001b[0m\u001b[0m\n",
      "\u001b[0;31mKeyError\u001b[0m: 'flux'"
     ]
    }
   ],
   "source": [
    "mask = t['flux'] > 3.0  # Define boolean (True/False) mask for all flux values > 3\n",
    "mask"
   ]
  },
  {
   "cell_type": "code",
   "execution_count": 87,
   "id": "7efc9ed1",
   "metadata": {},
   "outputs": [],
   "source": [
    "from astropy.table import Table\n",
    "obs = Table.read(\"\"\"name    obs_date    mag_b  mag_v\n",
    "                    M31     2012-01-02  17.0   17.5\n",
    "                    M31     2012-01-02  17.1   17.4\n",
    "                    M101    2012-01-02  15.1   13.5\n",
    "                    M82     2012-02-14  16.2   14.5\n",
    "                    M31     2012-02-14  16.9   17.3\n",
    "                    M82     2012-02-14  15.2   15.5\n",
    "                    M101    2012-02-14  15.0   13.6\n",
    "                    M82     2012-03-26  15.7   16.5\n",
    "                    M101    2012-03-26  15.1   13.5\n",
    "                    M101    2012-03-26  14.8   14.3\n",
    "                    \"\"\", format='ascii')\n",
    "# Make sure magnitudes are printed with one digit after the decimal point\n",
    "obs['mag_b'].info.format = '{:.1f}'\n",
    "obs['mag_v'].info.format = '{:.1f}'"
   ]
  },
  {
   "cell_type": "code",
   "execution_count": 88,
   "id": "fcb02b02",
   "metadata": {},
   "outputs": [
    {
     "name": "stdout",
     "output_type": "stream",
     "text": [
      "name  obs_date  mag_b mag_v\n",
      "---- ---------- ----- -----\n",
      "M101 2012-01-02  15.1  13.5\n",
      "M101 2012-02-14  15.0  13.6\n",
      "M101 2012-03-26  15.1  13.5\n",
      "M101 2012-03-26  14.8  14.3\n",
      " M31 2012-01-02  17.0  17.5\n",
      " M31 2012-01-02  17.1  17.4\n",
      " M31 2012-02-14  16.9  17.3\n",
      " M82 2012-02-14  16.2  14.5\n",
      " M82 2012-02-14  15.2  15.5\n",
      " M82 2012-03-26  15.7  16.5\n",
      "name\n",
      "----\n",
      "M101\n",
      " M31\n",
      " M82\n",
      "[ 0  4  7 10]\n"
     ]
    }
   ],
   "source": [
    "obs_by_name = obs.group_by('name')\n",
    "print(obs_by_name)  \n",
    "\n",
    "\n",
    "\n",
    "\n",
    "\n",
    "\n",
    "\n",
    "\n",
    "\n",
    "\n",
    "\n",
    "\n",
    "\n",
    "print(obs_by_name.groups.keys)\n",
    "\n",
    "\n",
    "\n",
    "\n",
    "\n",
    "print(obs_by_name.groups.indices)\n"
   ]
  },
  {
   "cell_type": "code",
   "execution_count": 89,
   "id": "5931ed9d",
   "metadata": {},
   "outputs": [
    {
     "name": "stdout",
     "output_type": "stream",
     "text": [
      "name  obs_date \n",
      "---- ----------\n",
      "M101 2012-01-02\n",
      "M101 2012-02-14\n",
      "M101 2012-03-26\n",
      " M31 2012-01-02\n",
      " M31 2012-02-14\n",
      " M82 2012-02-14\n",
      " M82 2012-03-26\n"
     ]
    }
   ],
   "source": [
    "print(obs.group_by(['name', 'obs_date']).groups.keys)\n"
   ]
  },
  {
   "cell_type": "code",
   "execution_count": 90,
   "id": "6668fd23",
   "metadata": {},
   "outputs": [
    {
     "name": "stdout",
     "output_type": "stream",
     "text": [
      "name  obs_date  mag_b mag_v\n",
      "---- ---------- ----- -----\n",
      " M31 2012-01-02  17.0  17.5\n",
      " M31 2012-01-02  17.1  17.4\n",
      " M31 2012-02-14  16.9  17.3\n"
     ]
    }
   ],
   "source": [
    "print(obs_by_name.groups[1])\n"
   ]
  },
  {
   "cell_type": "code",
   "execution_count": 91,
   "id": "9f27379a",
   "metadata": {},
   "outputs": [
    {
     "name": "stdout",
     "output_type": "stream",
     "text": [
      "name  obs_date  mag_b mag_v\n",
      "---- ---------- ----- -----\n",
      "M101 2012-01-02  15.1  13.5\n",
      "M101 2012-02-14  15.0  13.6\n",
      "M101 2012-03-26  15.1  13.5\n",
      "M101 2012-03-26  14.8  14.3\n"
     ]
    }
   ],
   "source": [
    "mask = obs_by_name.groups.keys['name'] == 'M101'\n",
    "print(obs_by_name.groups[mask])"
   ]
  },
  {
   "cell_type": "code",
   "execution_count": 92,
   "id": "fc54d536",
   "metadata": {},
   "outputs": [
    {
     "name": "stdout",
     "output_type": "stream",
     "text": [
      "****** M101 *******\n",
      "name  obs_date  mag_b mag_v\n",
      "---- ---------- ----- -----\n",
      "M101 2012-01-02  15.1  13.5\n",
      "M101 2012-02-14  15.0  13.6\n",
      "M101 2012-03-26  15.1  13.5\n",
      "M101 2012-03-26  14.8  14.3\n",
      "\n",
      "****** M31 *******\n",
      "name  obs_date  mag_b mag_v\n",
      "---- ---------- ----- -----\n",
      " M31 2012-01-02  17.0  17.5\n",
      " M31 2012-01-02  17.1  17.4\n",
      " M31 2012-02-14  16.9  17.3\n",
      "\n",
      "****** M82 *******\n",
      "name  obs_date  mag_b mag_v\n",
      "---- ---------- ----- -----\n",
      " M82 2012-02-14  16.2  14.5\n",
      " M82 2012-02-14  15.2  15.5\n",
      " M82 2012-03-26  15.7  16.5\n",
      "\n"
     ]
    }
   ],
   "source": [
    "for key, group in zip(obs_by_name.groups.keys, obs_by_name.groups):\n",
    "    print(f'****** {key[\"name\"]} *******')\n",
    "    print(group)\n",
    "    print('')"
   ]
  },
  {
   "cell_type": "code",
   "execution_count": 93,
   "id": "fffa605e",
   "metadata": {},
   "outputs": [
    {
     "name": "stdout",
     "output_type": "stream",
     "text": [
      "****** bar *******\n",
      " a \n",
      "---\n",
      "  2\n",
      "\n",
      "****** foo *******\n",
      " a \n",
      "---\n",
      "  1\n",
      "  3\n",
      "  4\n",
      "\n",
      "****** qux *******\n",
      " a \n",
      "---\n",
      "  5\n",
      "  6\n",
      "\n"
     ]
    }
   ],
   "source": [
    "from astropy.table import Column\n",
    "import numpy as np\n",
    "c = Column([1, 2, 3, 4, 5, 6], name='a')\n",
    "key_vals = np.array(['foo', 'bar', 'foo', 'foo', 'qux', 'qux'])\n",
    "cg = c.group_by(key_vals)\n",
    "\n",
    "for key, group in zip(cg.groups.keys, cg.groups):\n",
    "    print(f'****** {key} *******')\n",
    "    print(group)\n",
    "    print('')\n"
   ]
  },
  {
   "cell_type": "code",
   "execution_count": 94,
   "id": "783ba79f",
   "metadata": {},
   "outputs": [
    {
     "name": "stdout",
     "output_type": "stream",
     "text": [
      "name mag_b mag_v\n",
      "---- ----- -----\n",
      "M101  15.0  13.7\n",
      " M31  17.0  17.4\n",
      " M82  15.7  15.5\n"
     ]
    },
    {
     "name": "stderr",
     "output_type": "stream",
     "text": [
      "WARNING: Cannot aggregate column 'obs_date' with type '<U10': cannot perform reduceat with flexible type [astropy.table.groups]\n"
     ]
    }
   ],
   "source": [
    "obs_mean = obs_by_name.groups.aggregate(np.mean)  \n",
    "\n",
    "print(obs_mean)"
   ]
  },
  {
   "cell_type": "code",
   "execution_count": 95,
   "id": "34bf1ab3",
   "metadata": {},
   "outputs": [
    {
     "name": "stdout",
     "output_type": "stream",
     "text": [
      "mag_b\n",
      "-----\n",
      " 15.0\n",
      " 17.0\n",
      " 15.7\n"
     ]
    }
   ],
   "source": [
    "print(obs_by_name['mag_b'].groups.aggregate(np.mean))\n"
   ]
  },
  {
   "cell_type": "code",
   "execution_count": 96,
   "id": "12d32bd2",
   "metadata": {},
   "outputs": [
    {
     "name": "stdout",
     "output_type": "stream",
     "text": [
      "name mag_v mag_b\n",
      "---- ----- -----\n",
      "M101  13.7  15.0\n",
      " M31  17.4  17.0\n",
      " M82  15.5  15.7\n"
     ]
    }
   ],
   "source": [
    "print(obs_by_name['name', 'mag_v', 'mag_b'].groups.aggregate(np.mean))\n"
   ]
  },
  {
   "cell_type": "code",
   "execution_count": 97,
   "id": "ad14dd5e",
   "metadata": {},
   "outputs": [
    {
     "name": "stdout",
     "output_type": "stream",
     "text": [
      "Sum for bar = 2\n",
      "Sum for foo = 8\n",
      "Sum for qux = 11\n"
     ]
    }
   ],
   "source": [
    "c = Column([1, 2, 3, 4, 5, 6], name='a')\n",
    "key_vals = np.array(['foo', 'bar', 'foo', 'foo', 'qux', 'qux'])\n",
    "cg = c.group_by(key_vals)\n",
    "cg_sums = cg.groups.aggregate(np.sum)\n",
    "for key, cg_sum in zip(cg.groups.keys, cg_sums):\n",
    "    print(f'Sum for {key} = {cg_sum}')"
   ]
  },
  {
   "cell_type": "code",
   "execution_count": 98,
   "id": "d5103784",
   "metadata": {},
   "outputs": [],
   "source": [
    "year = np.linspace(2000.0, 2010.0, 200)  # 200 observations over 10 years\n",
    "period = 1.811\n",
    "y0 = 2005.2\n",
    "mag = 14.0 + 1.2 * np.sin(2 * np.pi * (year - y0) / period)\n",
    "phase = ((year - y0) / period) % 1.0\n",
    "dat = Table([year, phase, mag], names=['year', 'phase', 'mag'])"
   ]
  },
  {
   "cell_type": "code",
   "execution_count": 99,
   "id": "4a736025",
   "metadata": {},
   "outputs": [],
   "source": [
    "year_bin = np.trunc(year / 0.25)\n"
   ]
  },
  {
   "cell_type": "code",
   "execution_count": 100,
   "id": "b81bbe06",
   "metadata": {},
   "outputs": [],
   "source": [
    "dat_grouped = dat.group_by(year_bin)\n",
    "dat_binned = dat_grouped.groups.aggregate(np.mean)"
   ]
  },
  {
   "cell_type": "code",
   "execution_count": 101,
   "id": "f4a90ff9",
   "metadata": {},
   "outputs": [],
   "source": [
    "phase_bin = np.trunc(phase / 0.1)\n",
    "dat_grouped = dat.group_by(phase_bin)\n",
    "dat_binned = dat_grouped.groups.aggregate(np.mean)"
   ]
  },
  {
   "cell_type": "code",
   "execution_count": 102,
   "id": "0720123d",
   "metadata": {},
   "outputs": [],
   "source": [
    "from astropy.table import Table, vstack\n",
    "obs1 = Table.read(\"\"\"name    obs_date    mag_b  logLx\n",
    "                     M31     2012-01-02  17.0   42.5\n",
    "                     M82     2012-10-29  16.2   43.5\n",
    "                     M101    2012-10-31  15.1   44.5\"\"\", format='ascii')\n",
    "\n",
    "obs2 = Table.read(\"\"\"name    obs_date    logLx\n",
    "                     NGC3516 2011-11-11  42.1\n",
    "                     M31     1999-01-05  43.1\n",
    "                     M82     2012-10-30  45.0\"\"\", format='ascii')"
   ]
  },
  {
   "cell_type": "code",
   "execution_count": 103,
   "id": "b994a573",
   "metadata": {},
   "outputs": [
    {
     "name": "stdout",
     "output_type": "stream",
     "text": [
      "  name   obs_date  mag_b logLx\n",
      "------- ---------- ----- -----\n",
      "    M31 2012-01-02  17.0  42.5\n",
      "    M82 2012-10-29  16.2  43.5\n",
      "   M101 2012-10-31  15.1  44.5\n",
      "NGC3516 2011-11-11    --  42.1\n",
      "    M31 1999-01-05    --  43.1\n",
      "    M82 2012-10-30    --  45.0\n"
     ]
    }
   ],
   "source": [
    "print(vstack([obs1, obs2]))\n"
   ]
  },
  {
   "cell_type": "code",
   "execution_count": 104,
   "id": "82fb79f2",
   "metadata": {},
   "outputs": [
    {
     "name": "stdout",
     "output_type": "stream",
     "text": [
      "  name   obs_date  logLx\n",
      "------- ---------- -----\n",
      "    M31 2012-01-02  42.5\n",
      "    M82 2012-10-29  43.5\n",
      "   M101 2012-10-31  44.5\n",
      "NGC3516 2011-11-11  42.1\n",
      "    M31 1999-01-05  43.1\n",
      "    M82 2012-10-30  45.0\n"
     ]
    },
    {
     "ename": "TableMergeError",
     "evalue": "Inconsistent columns in input arrays (use 'inner' or 'outer' join_type to allow non-matching columns)",
     "output_type": "error",
     "traceback": [
      "\u001b[0;31m---------------------------------------------------------------------------\u001b[0m",
      "\u001b[0;31mTableMergeError\u001b[0m                           Traceback (most recent call last)",
      "\u001b[0;32m/var/folders/xj/0mk4jn0d0x1dh7w33nl5g1740000gp/T/ipykernel_40064/1295258684.py\u001b[0m in \u001b[0;36m<module>\u001b[0;34m\u001b[0m\n\u001b[1;32m      9\u001b[0m \u001b[0;34m\u001b[0m\u001b[0m\n\u001b[1;32m     10\u001b[0m \u001b[0;34m\u001b[0m\u001b[0m\n\u001b[0;32m---> 11\u001b[0;31m \u001b[0mprint\u001b[0m\u001b[0;34m(\u001b[0m\u001b[0mvstack\u001b[0m\u001b[0;34m(\u001b[0m\u001b[0;34m[\u001b[0m\u001b[0mobs1\u001b[0m\u001b[0;34m,\u001b[0m \u001b[0mobs2\u001b[0m\u001b[0;34m]\u001b[0m\u001b[0;34m,\u001b[0m \u001b[0mjoin_type\u001b[0m\u001b[0;34m=\u001b[0m\u001b[0;34m'exact'\u001b[0m\u001b[0;34m)\u001b[0m\u001b[0;34m)\u001b[0m\u001b[0;34m\u001b[0m\u001b[0;34m\u001b[0m\u001b[0m\n\u001b[0m",
      "\u001b[0;32m/opt/anaconda3/lib/python3.9/site-packages/astropy/table/operations.py\u001b[0m in \u001b[0;36mvstack\u001b[0;34m(tables, join_type, metadata_conflicts)\u001b[0m\n\u001b[1;32m    649\u001b[0m     \u001b[0mcol_name_map\u001b[0m \u001b[0;34m=\u001b[0m \u001b[0mOrderedDict\u001b[0m\u001b[0;34m(\u001b[0m\u001b[0;34m)\u001b[0m\u001b[0;34m\u001b[0m\u001b[0;34m\u001b[0m\u001b[0m\n\u001b[1;32m    650\u001b[0m \u001b[0;34m\u001b[0m\u001b[0m\n\u001b[0;32m--> 651\u001b[0;31m     \u001b[0mout\u001b[0m \u001b[0;34m=\u001b[0m \u001b[0m_vstack\u001b[0m\u001b[0;34m(\u001b[0m\u001b[0mtables\u001b[0m\u001b[0;34m,\u001b[0m \u001b[0mjoin_type\u001b[0m\u001b[0;34m,\u001b[0m \u001b[0mcol_name_map\u001b[0m\u001b[0;34m,\u001b[0m \u001b[0mmetadata_conflicts\u001b[0m\u001b[0;34m)\u001b[0m\u001b[0;34m\u001b[0m\u001b[0;34m\u001b[0m\u001b[0m\n\u001b[0m\u001b[1;32m    652\u001b[0m \u001b[0;34m\u001b[0m\u001b[0m\n\u001b[1;32m    653\u001b[0m     \u001b[0;31m# Merge table metadata\u001b[0m\u001b[0;34m\u001b[0m\u001b[0;34m\u001b[0m\u001b[0m\n",
      "\u001b[0;32m/opt/anaconda3/lib/python3.9/site-packages/astropy/table/operations.py\u001b[0m in \u001b[0;36m_vstack\u001b[0;34m(arrays, join_type, col_name_map, metadata_conflicts)\u001b[0m\n\u001b[1;32m   1371\u001b[0m         \u001b[0;32mfor\u001b[0m \u001b[0mnames\u001b[0m \u001b[0;32min\u001b[0m \u001b[0mcol_name_map\u001b[0m\u001b[0;34m.\u001b[0m\u001b[0mvalues\u001b[0m\u001b[0;34m(\u001b[0m\u001b[0;34m)\u001b[0m\u001b[0;34m:\u001b[0m\u001b[0;34m\u001b[0m\u001b[0;34m\u001b[0m\u001b[0m\n\u001b[1;32m   1372\u001b[0m             \u001b[0;32mif\u001b[0m \u001b[0many\u001b[0m\u001b[0;34m(\u001b[0m\u001b[0mx\u001b[0m \u001b[0;32mis\u001b[0m \u001b[0;32mNone\u001b[0m \u001b[0;32mfor\u001b[0m \u001b[0mx\u001b[0m \u001b[0;32min\u001b[0m \u001b[0mnames\u001b[0m\u001b[0;34m)\u001b[0m\u001b[0;34m:\u001b[0m\u001b[0;34m\u001b[0m\u001b[0;34m\u001b[0m\u001b[0m\n\u001b[0;32m-> 1373\u001b[0;31m                 raise TableMergeError('Inconsistent columns in input arrays '\n\u001b[0m\u001b[1;32m   1374\u001b[0m                                       \u001b[0;34m\"(use 'inner' or 'outer' join_type to \"\u001b[0m\u001b[0;34m\u001b[0m\u001b[0;34m\u001b[0m\u001b[0m\n\u001b[1;32m   1375\u001b[0m                                       \"allow non-matching columns)\")\n",
      "\u001b[0;31mTableMergeError\u001b[0m: Inconsistent columns in input arrays (use 'inner' or 'outer' join_type to allow non-matching columns)"
     ]
    }
   ],
   "source": [
    "print(vstack([obs1, obs2], join_type='inner'))\n",
    "\n",
    "\n",
    "\n",
    "\n",
    "\n",
    "\n",
    "\n",
    "\n",
    "\n",
    "print(vstack([obs1, obs2], join_type='exact'))  \n"
   ]
  },
  {
   "cell_type": "code",
   "execution_count": 105,
   "id": "2973121a",
   "metadata": {},
   "outputs": [
    {
     "name": "stdout",
     "output_type": "stream",
     "text": [
      "  name   obs_date  mag_b logLx\n",
      "------- ---------- ----- -----\n",
      "    M31 2012-01-02  17.0  42.5\n",
      "    M82 2012-10-29  16.2  43.5\n",
      "   M101 2012-10-31  15.1  44.5\n",
      "NGC3516 2011-11-11    --  42.1\n",
      "    M31 1999-01-05    --  43.1\n",
      "    M82 2012-10-30    --  45.0\n",
      "    M45 2012-02-03  15.0  40.5\n"
     ]
    }
   ],
   "source": [
    "obs3 = Table.read(\"\"\"name    obs_date    mag_b  logLx\n",
    "                     M45     2012-02-03  15.0   40.5\"\"\", format='ascii')\n",
    "print(vstack([obs1, obs2, obs3]))\n",
    "\n"
   ]
  },
  {
   "cell_type": "code",
   "execution_count": 106,
   "id": "15944ced",
   "metadata": {},
   "outputs": [],
   "source": [
    "from astropy.table import Table\n",
    "dat = Table([[1, 2], [3, 4]], names=('a', 'b'))\n",
    "dat.write('table.dat', format='ascii')"
   ]
  },
  {
   "cell_type": "code",
   "execution_count": 107,
   "id": "2e33fbd5",
   "metadata": {},
   "outputs": [
    {
     "name": "stdout",
     "output_type": "stream",
     "text": [
      "=================================\n",
      "Table.write general documentation\n",
      "=================================\n",
      "\n",
      "Write this Table object out in the specified format.\n",
      "\n",
      "This function provides the Table interface to the astropy unified I/O\n",
      "layer.  This allows easily writing a file in many supported data formats\n",
      "using syntax such as::\n",
      "\n",
      "  >>> from astropy.table import Table\n",
      "  >>> dat = Table([[1, 2], [3, 4]], names=('a', 'b'))\n",
      "  >>> dat.write('table.dat', format='ascii')\n",
      "\n",
      "Get help on the available writers for ``Table`` using the``help()`` method::\n",
      "\n",
      "  >>> Table.write.help()  # Get help writing Table and list supported formats\n",
      "  >>> Table.write.help('fits')  # Get detailed help on Table FITS writer\n",
      "  >>> Table.write.list_formats()  # Print list of available formats\n",
      "\n",
      "The ``serialize_method`` argument is explained in the section on\n",
      "`Table serialization methods\n",
      "<https://docs.astropy.org/en/latest/io/unified.html#table-serialization-methods>`_.\n",
      "\n",
      "See also: https://docs.astropy.org/en/stable/io/unified.html\n",
      "\n",
      "Parameters\n",
      "----------\n",
      "*args : tuple, optional\n",
      "    Positional arguments passed through to data writer. If supplied the\n",
      "    first argument is the output filename.\n",
      "format : str\n",
      "    File format specifier.\n",
      "serialize_method : str, dict, optional\n",
      "    Serialization method specifier for columns.\n",
      "**kwargs : dict, optional\n",
      "    Keyword arguments passed through to data writer.\n",
      "\n",
      "Notes\n",
      "-----\n",
      "\n",
      "The available built-in formats are:\n",
      "\n",
      "=========================== ==== ===== ============= ==========\n",
      "           Format           Read Write Auto-identify Deprecated\n",
      "=========================== ==== ===== ============= ==========\n",
      "                      ascii  Yes   Yes            No           \n",
      "               ascii.aastex  Yes   Yes            No           \n",
      "                ascii.basic  Yes   Yes            No           \n",
      "     ascii.commented_header  Yes   Yes            No           \n",
      "                  ascii.csv  Yes   Yes           Yes           \n",
      "                 ascii.ecsv  Yes   Yes           Yes           \n",
      "           ascii.fast_basic  Yes   Yes            No           \n",
      "ascii.fast_commented_header  Yes   Yes            No           \n",
      "             ascii.fast_csv  Yes   Yes            No           \n",
      "       ascii.fast_no_header  Yes   Yes            No           \n",
      "             ascii.fast_rdb  Yes   Yes            No           \n",
      "             ascii.fast_tab  Yes   Yes            No           \n",
      "          ascii.fixed_width  Yes   Yes            No           \n",
      "ascii.fixed_width_no_header  Yes   Yes            No           \n",
      " ascii.fixed_width_two_line  Yes   Yes            No           \n",
      "                 ascii.html  Yes   Yes           Yes           \n",
      "                 ascii.ipac  Yes   Yes            No           \n",
      "                ascii.latex  Yes   Yes           Yes           \n",
      "                  ascii.mrt  Yes   Yes            No           \n",
      "            ascii.no_header  Yes   Yes            No           \n",
      "                  ascii.qdp  Yes   Yes           Yes           \n",
      "                  ascii.rdb  Yes   Yes           Yes           \n",
      "                  ascii.rst  Yes   Yes            No           \n",
      "                  ascii.tab  Yes   Yes            No           \n",
      "                       asdf  Yes   Yes           Yes           \n",
      "                       fits  Yes   Yes           Yes           \n",
      "                       hdf5  Yes   Yes           Yes           \n",
      "                   jsviewer   No   Yes            No           \n",
      "                 pandas.csv  Yes   Yes            No           \n",
      "                pandas.html  Yes   Yes            No           \n",
      "                pandas.json  Yes   Yes            No           \n",
      "                    parquet  Yes   Yes           Yes           \n",
      "                    votable  Yes   Yes           Yes           \n",
      "                     aastex  Yes   Yes            No        Yes\n",
      "                        csv  Yes   Yes            No        Yes\n",
      "                       html  Yes   Yes            No        Yes\n",
      "                       ipac  Yes   Yes            No        Yes\n",
      "                      latex  Yes   Yes            No        Yes\n",
      "                        mrt  Yes   Yes            No        Yes\n",
      "                        rdb  Yes   Yes            No        Yes\n",
      "=========================== ==== ===== ============= ==========\n",
      "\n",
      "Deprecated format names like ``aastex`` will be removed in a future version. Use the full \n",
      "name (e.g. ``ascii.aastex``) instead.========================================\n",
      "Table.write(format='fits') documentation\n",
      "========================================\n",
      "\n",
      "Write a Table object to a FITS file\n",
      "\n",
      "Parameters\n",
      "----------\n",
      "input : Table\n",
      "    The table to write out.\n",
      "output : str\n",
      "    The filename to write the table to.\n",
      "overwrite : bool\n",
      "    Whether to overwrite any existing file without warning.\n",
      "append : bool\n",
      "    Whether to append the table to an existing file           Format           Read Write Auto-identify Deprecated\n",
      "--------------------------- ---- ----- ------------- ----------\n",
      "                      ascii  Yes   Yes            No           \n",
      "               ascii.aastex  Yes   Yes            No           \n",
      "                ascii.basic  Yes   Yes            No           \n",
      "     ascii.commented_header  Yes   Yes            No           \n",
      "                  ascii.csv  Yes   Yes           Yes           \n",
      "                 ascii.ecsv  Yes   Yes           Yes           \n",
      "           ascii.fast_basic  Yes   Yes            No           \n",
      "ascii.fast_commented_header  Yes   Yes            No           \n",
      "             ascii.fast_csv  Yes   Yes            No           \n",
      "       ascii.fast_no_header  Yes   Yes            No           \n",
      "             ascii.fast_rdb  Yes   Yes            No           \n",
      "             ascii.fast_tab  Yes   Yes            No           \n",
      "          ascii.fixed_width  Yes   Yes            No           \n",
      "ascii.fixed_width_no_header  Yes   Yes            No           \n",
      " ascii.fixed_width_two_line  Yes   Yes            No           \n",
      "                 ascii.html  Yes   Yes           Yes           \n",
      "                 ascii.ipac  Yes   Yes            No           \n",
      "                ascii.latex  Yes   Yes           Yes           \n",
      "                  ascii.mrt  Yes   Yes            No           \n",
      "            ascii.no_header  Yes   Yes            No           \n",
      "                  ascii.qdp  Yes   Yes           Yes           \n",
      "                  ascii.rdb  Yes   Yes           Yes           \n",
      "                  ascii.rst  Yes   Yes            No           \n",
      "                  ascii.tab  Yes   Yes            No           \n",
      "                       asdf  Yes   Yes           Yes           \n",
      "                       fits  Yes   Yes           Yes           \n",
      "                       hdf5  Yes   Yes           Yes           \n",
      "                   jsviewer   No   Yes            No           \n",
      "                 pandas.csv  Yes   Yes            No           \n",
      "                pandas.html  Yes   Yes            No           \n",
      "                pandas.json  Yes   Yes            No           \n",
      "                    parquet  Yes   Yes           Yes           \n",
      "                    votable  Yes   Yes           Yes           \n",
      "                     aastex  Yes   Yes            No        Yes\n",
      "                        csv  Yes   Yes            No        Yes\n",
      "                       html  Yes   Yes            No        Yes\n",
      "                       ipac  Yes   Yes            No        Yes\n",
      "                      latex  Yes   Yes            No        Yes\n",
      "                        mrt  Yes   Yes            No        Yes\n",
      "                        rdb  Yes   Yes            No        Yes\n"
     ]
    }
   ],
   "source": [
    "Table.write.help()  # Get help writing Table and list supported formats\n",
    "Table.write.help('fits')  # Get detailed help on Table FITS writer\n",
    "Table.write.list_formats()  # Print list of available formats"
   ]
  },
  {
   "cell_type": "code",
   "execution_count": 108,
   "id": "73481b80",
   "metadata": {},
   "outputs": [
    {
     "name": "stdout",
     "output_type": "stream",
     "text": [
      " a   b   c \n",
      "--- --- ---\n",
      "  1 0.1   x\n",
      "  2 0.2   y\n"
     ]
    }
   ],
   "source": [
    "t = Table([[1, 2], [0.1, 0.2]], names=('a', 'b'))\n",
    "col_c = Column(name='c', data=['x', 'y'])\n",
    "t.add_column(col_c)\n",
    "print(t)\n",
    "\n"
   ]
  },
  {
   "cell_type": "code",
   "execution_count": 109,
   "id": "442d2e02",
   "metadata": {},
   "outputs": [
    {
     "name": "stdout",
     "output_type": "stream",
     "text": [
      " a   d   b   c \n",
      "--- --- --- ---\n",
      "  1   a 0.1   x\n",
      "  2   b 0.2   y\n"
     ]
    }
   ],
   "source": [
    "t.add_column(['a', 'b'], name='d', index=1)\n",
    "print(t)"
   ]
  },
  {
   "cell_type": "code",
   "execution_count": 110,
   "id": "d1234ec6",
   "metadata": {},
   "outputs": [
    {
     "name": "stdout",
     "output_type": "stream",
     "text": [
      " a   b  b_1\n",
      "--- --- ---\n",
      "  1 0.1 1.1\n",
      "  2 0.2 1.1\n"
     ]
    }
   ],
   "source": [
    "t = Table([[1, 2], [0.1, 0.2]], names=('a', 'b'))\n",
    "t.add_column(1.1, name='b', rename_duplicate=True)\n",
    "print(t)"
   ]
  },
  {
   "cell_type": "code",
   "execution_count": 111,
   "id": "a8318c0a",
   "metadata": {},
   "outputs": [
    {
     "name": "stdout",
     "output_type": "stream",
     "text": [
      " a   b  col2  d \n",
      "--- --- ---- ---\n",
      "  1 0.1    a   x\n",
      "  2 0.2    b   y\n"
     ]
    }
   ],
   "source": [
    "t = Table([[1, 2], [0.1, 0.2]], names=('a', 'b'))\n",
    "t.add_column(['a', 'b'])\n",
    "t.add_column(col_c, name='d')\n",
    "print(t)"
   ]
  },
  {
   "cell_type": "code",
   "execution_count": 112,
   "id": "b1de2005",
   "metadata": {},
   "outputs": [
    {
     "name": "stdout",
     "output_type": "stream",
     "text": [
      " a   b   c   d \n",
      "--- --- --- ---\n",
      "  1 0.1   x   u\n",
      "  2 0.2   y   v\n"
     ]
    }
   ],
   "source": [
    "t = Table([[1, 2], [0.1, 0.2]], names=('a', 'b'))\n",
    "col_c = Column(name='c', data=['x', 'y'])\n",
    "col_d = Column(name='d', data=['u', 'v'])\n",
    "t.add_columns([col_c, col_d])\n",
    "print(t)"
   ]
  },
  {
   "cell_type": "code",
   "execution_count": 113,
   "id": "edaa07c8",
   "metadata": {},
   "outputs": [
    {
     "name": "stdout",
     "output_type": "stream",
     "text": [
      " c   a   d   b \n",
      "--- --- --- ---\n",
      "  x   1   u 0.1\n",
      "  y   2   v 0.2\n"
     ]
    }
   ],
   "source": [
    "t = Table([[1, 2], [0.1, 0.2]], names=('a', 'b'))\n",
    "t.add_columns([['x', 'y'], ['u', 'v']], names=['c', 'd'],\n",
    "              indexes=[0, 1])\n",
    "print(t)\n"
   ]
  },
  {
   "cell_type": "code",
   "execution_count": 114,
   "id": "72434e5d",
   "metadata": {},
   "outputs": [
    {
     "name": "stdout",
     "output_type": "stream",
     "text": [
      " a   b  b_1  c \n",
      "--- --- --- ---\n",
      "  1 0.1 1.1   x\n",
      "  2 0.2 1.2   y\n"
     ]
    }
   ],
   "source": [
    "t = Table([[1, 2], [0.1, 0.2]], names=('a', 'b'))\n",
    "t.add_columns([[1.1, 1.2], ['x', 'y']], names=('b', 'c'),\n",
    "              rename_duplicate=True)\n",
    "print(t)"
   ]
  },
  {
   "cell_type": "code",
   "execution_count": 115,
   "id": "0bef6a7f",
   "metadata": {},
   "outputs": [
    {
     "name": "stdout",
     "output_type": "stream",
     "text": [
      "col0  b   c   d \n",
      "---- --- --- ---\n",
      "   1   u   3   u\n",
      "   2   v   4   v\n"
     ]
    }
   ],
   "source": [
    "t = Table()\n",
    "col_b = Column(name='b', data=['u', 'v'])\n",
    "t.add_columns([[1, 2], col_b])\n",
    "t.add_columns([[3, 4], col_b], names=['c', 'd'])\n",
    "print(t)"
   ]
  },
  {
   "cell_type": "code",
   "execution_count": 116,
   "id": "603162e9",
   "metadata": {},
   "outputs": [],
   "source": [
    "import numpy as np\n",
    "import pandas as pd\n",
    "from astropy.table import QTable"
   ]
  },
  {
   "cell_type": "code",
   "execution_count": 117,
   "id": "edbf037f",
   "metadata": {},
   "outputs": [
    {
     "name": "stdout",
     "output_type": "stream",
     "text": [
      "        time              dt    x\n",
      "0 1998-01-01 0 days 00:00:01  3.0\n",
      "1 2002-01-01 0 days 00:05:00  4.0\n"
     ]
    }
   ],
   "source": [
    "time = pd.Series(['1998-01-01', '2002-01-01'], dtype='datetime64[ns]')\n",
    "dt = pd.Series(np.array([1, 300], dtype='timedelta64[s]'))\n",
    "df = pd.DataFrame({'time': time})\n",
    "df['dt'] = dt\n",
    "df['x'] = [3., 4.]\n",
    "with pd.option_context('display.max_columns', 20):\n",
    "    print(df)"
   ]
  },
  {
   "cell_type": "code",
   "execution_count": 118,
   "id": "8bf2700e",
   "metadata": {},
   "outputs": [
    {
     "data": {
      "text/html": [
       "<div><i>QTable length=2</i>\n",
       "<table id=\"table4788808096\" class=\"table-striped table-bordered table-condensed\">\n",
       "<thead><tr><th>time</th><th>dt</th><th>x</th></tr></thead>\n",
       "<thead><tr><th>Time</th><th>TimeDelta</th><th>float64</th></tr></thead>\n",
       "<tr><td>1998-01-01T00:00:00.000</td><td>1.0</td><td>3.0</td></tr>\n",
       "<tr><td>2002-01-01T00:00:00.000</td><td>300.0</td><td>4.0</td></tr>\n",
       "</table></div>"
      ],
      "text/plain": [
       "<QTable length=2>\n",
       "          time              dt       x   \n",
       "          Time          TimeDelta float64\n",
       "----------------------- --------- -------\n",
       "1998-01-01T00:00:00.000       1.0     3.0\n",
       "2002-01-01T00:00:00.000     300.0     4.0"
      ]
     },
     "execution_count": 118,
     "metadata": {},
     "output_type": "execute_result"
    }
   ],
   "source": [
    "QTable.from_pandas(df)\n"
   ]
  },
  {
   "cell_type": "code",
   "execution_count": 119,
   "id": "2e43a56b",
   "metadata": {},
   "outputs": [
    {
     "name": "stdout",
     "output_type": "stream",
     "text": [
      " a   b   c \n",
      "--- --- ---\n",
      "  1 0.1   x\n",
      "  2 0.2   y\n",
      "  3 0.3   z\n"
     ]
    }
   ],
   "source": [
    "t = Table([[1, 2, 3], [0.1, 0.2, 0.3], ['x', 'y', 'z']],\n",
    "          names=('a', 'b', 'c'))\n",
    "print(t)"
   ]
  },
  {
   "cell_type": "code",
   "execution_count": 120,
   "id": "2bb5ada4",
   "metadata": {},
   "outputs": [
    {
     "data": {
      "text/plain": [
       "1"
      ]
     },
     "execution_count": 120,
     "metadata": {},
     "output_type": "execute_result"
    }
   ],
   "source": [
    "t.index_column('b')\n"
   ]
  },
  {
   "cell_type": "code",
   "execution_count": 121,
   "id": "96db08e2",
   "metadata": {},
   "outputs": [
    {
     "name": "stdout",
     "output_type": "stream",
     "text": [
      "col0\n",
      "----\n",
      "   1\n",
      "col1\n",
      "----\n",
      "   2\n"
     ]
    }
   ],
   "source": [
    "t = Table([[1], [2]])\n",
    "for col in t.itercols():\n",
    "    print(col)"
   ]
  },
  {
   "cell_type": "code",
   "execution_count": 122,
   "id": "45882b48",
   "metadata": {},
   "outputs": [],
   "source": [
    "t = Table({'a': [1, 2, 3],\n",
    "           'b': [1.0, 2.5, 3.0],\n",
    "           'c': ['x', 'y', 'z']})"
   ]
  },
  {
   "cell_type": "code",
   "execution_count": 123,
   "id": "0d9617d0",
   "metadata": {},
   "outputs": [
    {
     "name": "stdout",
     "output_type": "stream",
     "text": [
      " a   b   c \n",
      "--- --- ---\n",
      "  1 0.1   x\n",
      "  2 0.2   y\n",
      "  3 0.3   z\n"
     ]
    }
   ],
   "source": [
    "t = Table([[1, 2, 3],[0.1, 0.2, 0.3],['x', 'y', 'z']],\n",
    "          names=('a', 'b', 'c'))\n",
    "print(t)"
   ]
  },
  {
   "cell_type": "code",
   "execution_count": 124,
   "id": "900b990d",
   "metadata": {},
   "outputs": [
    {
     "name": "stdout",
     "output_type": "stream",
     "text": [
      " a \n",
      "---\n",
      "  1\n",
      "  2\n",
      "  3\n"
     ]
    }
   ],
   "source": [
    "t.keep_columns('a')\n",
    "print(t)"
   ]
  },
  {
   "cell_type": "code",
   "execution_count": 125,
   "id": "1eecc5a5",
   "metadata": {},
   "outputs": [
    {
     "name": "stdout",
     "output_type": "stream",
     "text": [
      " a   c \n",
      "--- ---\n",
      "  1   x\n",
      "  2   y\n",
      "  3   z\n"
     ]
    }
   ],
   "source": [
    "t = Table([[1, 2, 3],[0.1, 0.2, 0.3],['x', 'y', 'z']],\n",
    "          names=('a', 'b', 'c'))\n",
    "t.keep_columns(['a', 'c'])\n",
    "print(t)\n"
   ]
  },
  {
   "cell_type": "code",
   "execution_count": 126,
   "id": "064269ad",
   "metadata": {},
   "outputs": [
    {
     "name": "stdout",
     "output_type": "stream",
     "text": [
      " a    b     c \n",
      "--- ------ ---\n",
      "  1 -25.55   a\n",
      "  4 12.123   b\n",
      "  5   85.0   c\n"
     ]
    }
   ],
   "source": [
    "t = Table([[1, 4, 5], [-25.55, 12.123, 85],\n",
    "    ['a', 'b', 'c']], names=('a', 'b', 'c'))\n",
    "print(t)"
   ]
  },
  {
   "cell_type": "code",
   "execution_count": 127,
   "id": "79a37392",
   "metadata": {},
   "outputs": [
    {
     "name": "stdout",
     "output_type": "stream",
     "text": [
      " a    b    c \n",
      "--- ----- ---\n",
      "  1 -26.0   a\n",
      "  4  12.0   b\n",
      "  5  85.0   c\n"
     ]
    }
   ],
   "source": [
    "t.round(0)\n",
    "print(t)"
   ]
  },
  {
   "cell_type": "code",
   "execution_count": 128,
   "id": "7a4a313f",
   "metadata": {},
   "outputs": [
    {
     "name": "stdout",
     "output_type": "stream",
     "text": [
      " a    b    c \n",
      "--- ----- ---\n",
      "  0 -26.0   a\n",
      "  0  12.0   b\n",
      "  0  85.0   c\n"
     ]
    }
   ],
   "source": [
    "t.round({'a':-1})\n",
    "print(t)\n"
   ]
  },
  {
   "cell_type": "code",
   "execution_count": 129,
   "id": "aa8cd8ab",
   "metadata": {},
   "outputs": [
    {
     "name": "stdout",
     "output_type": "stream",
     "text": [
      "firstname   name  tel\n",
      "--------- ------- ---\n",
      "      Max  Miller  12\n",
      "       Jo  Miller  15\n",
      "     John Jackson  18\n"
     ]
    }
   ],
   "source": [
    "t = Table([['Max', 'Jo', 'John'], ['Miller', 'Miller', 'Jackson'],\n",
    "           [12, 15, 18]], names=('firstname', 'name', 'tel'))\n",
    "print(t)"
   ]
  },
  {
   "cell_type": "code",
   "execution_count": 130,
   "id": "9f026493",
   "metadata": {},
   "outputs": [
    {
     "name": "stdout",
     "output_type": "stream",
     "text": [
      "firstname   name  tel\n",
      "--------- ------- ---\n",
      "     John Jackson  18\n",
      "       Jo  Miller  15\n",
      "      Max  Miller  12\n"
     ]
    }
   ],
   "source": [
    "t.sort(['name', 'firstname'])\n",
    "print(t)"
   ]
  },
  {
   "cell_type": "code",
   "execution_count": 131,
   "id": "15164536",
   "metadata": {},
   "outputs": [
    {
     "name": "stdout",
     "output_type": "stream",
     "text": [
      "firstname   name  tel\n",
      "--------- ------- ---\n",
      "      Max  Miller  12\n",
      "     John Jackson  18\n",
      "       Jo  Miller  15\n"
     ]
    }
   ],
   "source": [
    "t.sort(['firstname', 'tel'], reverse=True)\n",
    "print(t)\n"
   ]
  },
  {
   "cell_type": "code",
   "execution_count": 133,
   "id": "a7de7466",
   "metadata": {},
   "outputs": [],
   "source": [
    "import pandas as pd"
   ]
  },
  {
   "cell_type": "code",
   "execution_count": 134,
   "id": "6f21e134",
   "metadata": {},
   "outputs": [],
   "source": [
    "df = pd.DataFrame({'a': [10,20,30],\n",
    "                   'b': [40,50,60]})"
   ]
  },
  {
   "cell_type": "code",
   "execution_count": 135,
   "id": "b74a0506",
   "metadata": {},
   "outputs": [
    {
     "data": {
      "text/html": [
       "<div>\n",
       "<style scoped>\n",
       "    .dataframe tbody tr th:only-of-type {\n",
       "        vertical-align: middle;\n",
       "    }\n",
       "\n",
       "    .dataframe tbody tr th {\n",
       "        vertical-align: top;\n",
       "    }\n",
       "\n",
       "    .dataframe thead th {\n",
       "        text-align: right;\n",
       "    }\n",
       "</style>\n",
       "<table border=\"1\" class=\"dataframe\">\n",
       "  <thead>\n",
       "    <tr style=\"text-align: right;\">\n",
       "      <th></th>\n",
       "      <th>a</th>\n",
       "      <th>b</th>\n",
       "    </tr>\n",
       "  </thead>\n",
       "  <tbody>\n",
       "    <tr>\n",
       "      <th>0</th>\n",
       "      <td>10</td>\n",
       "      <td>40</td>\n",
       "    </tr>\n",
       "    <tr>\n",
       "      <th>1</th>\n",
       "      <td>20</td>\n",
       "      <td>50</td>\n",
       "    </tr>\n",
       "    <tr>\n",
       "      <th>2</th>\n",
       "      <td>30</td>\n",
       "      <td>60</td>\n",
       "    </tr>\n",
       "  </tbody>\n",
       "</table>\n",
       "</div>"
      ],
      "text/plain": [
       "    a   b\n",
       "0  10  40\n",
       "1  20  50\n",
       "2  30  60"
      ]
     },
     "execution_count": 135,
     "metadata": {},
     "output_type": "execute_result"
    }
   ],
   "source": [
    "df"
   ]
  },
  {
   "cell_type": "code",
   "execution_count": 136,
   "id": "c667c62c",
   "metadata": {},
   "outputs": [
    {
     "data": {
      "text/plain": [
       "Index(['a', 'b'], dtype='object')"
      ]
     },
     "execution_count": 136,
     "metadata": {},
     "output_type": "execute_result"
    }
   ],
   "source": [
    "df.columns"
   ]
  },
  {
   "cell_type": "code",
   "execution_count": 137,
   "id": "183e2994",
   "metadata": {},
   "outputs": [
    {
     "data": {
      "text/plain": [
       "RangeIndex(start=0, stop=3, step=1)"
      ]
     },
     "execution_count": 137,
     "metadata": {},
     "output_type": "execute_result"
    }
   ],
   "source": [
    "df.index"
   ]
  },
  {
   "cell_type": "code",
   "execution_count": 139,
   "id": "5c5b4182",
   "metadata": {},
   "outputs": [],
   "source": [
    "#hit shift + tab tab in the cell below to read more about dataframe objects and operations"
   ]
  },
  {
   "cell_type": "code",
   "execution_count": 140,
   "id": "e0a87ea8",
   "metadata": {
    "scrolled": true
   },
   "outputs": [
    {
     "ename": "AttributeError",
     "evalue": "module 'pandas' has no attribute 'r'",
     "output_type": "error",
     "traceback": [
      "\u001b[0;31m---------------------------------------------------------------------------\u001b[0m",
      "\u001b[0;31mAttributeError\u001b[0m                            Traceback (most recent call last)",
      "\u001b[0;32m/var/folders/xj/0mk4jn0d0x1dh7w33nl5g1740000gp/T/ipykernel_40064/986519850.py\u001b[0m in \u001b[0;36m<module>\u001b[0;34m\u001b[0m\n\u001b[0;32m----> 1\u001b[0;31m \u001b[0mpd\u001b[0m\u001b[0;34m.\u001b[0m\u001b[0mr\u001b[0m\u001b[0;34m\u001b[0m\u001b[0;34m\u001b[0m\u001b[0m\n\u001b[0m",
      "\u001b[0;32m/opt/anaconda3/lib/python3.9/site-packages/pandas/__init__.py\u001b[0m in \u001b[0;36m__getattr__\u001b[0;34m(name)\u001b[0m\n\u001b[1;32m    259\u001b[0m         \u001b[0;32mreturn\u001b[0m \u001b[0m_SparseArray\u001b[0m\u001b[0;34m\u001b[0m\u001b[0;34m\u001b[0m\u001b[0m\n\u001b[1;32m    260\u001b[0m \u001b[0;34m\u001b[0m\u001b[0m\n\u001b[0;32m--> 261\u001b[0;31m     \u001b[0;32mraise\u001b[0m \u001b[0mAttributeError\u001b[0m\u001b[0;34m(\u001b[0m\u001b[0;34mf\"module 'pandas' has no attribute '{name}'\"\u001b[0m\u001b[0;34m)\u001b[0m\u001b[0;34m\u001b[0m\u001b[0;34m\u001b[0m\u001b[0m\n\u001b[0m\u001b[1;32m    262\u001b[0m \u001b[0;34m\u001b[0m\u001b[0m\n\u001b[1;32m    263\u001b[0m \u001b[0;34m\u001b[0m\u001b[0m\n",
      "\u001b[0;31mAttributeError\u001b[0m: module 'pandas' has no attribute 'r'"
     ]
    }
   ],
   "source": [
    "pd.r"
   ]
  },
  {
   "cell_type": "code",
   "execution_count": 145,
   "id": "828345ff",
   "metadata": {},
   "outputs": [],
   "source": [
    "## code to read in source data here\n"
   ]
  },
  {
   "cell_type": "code",
   "execution_count": 146,
   "id": "6a1dbedd",
   "metadata": {},
   "outputs": [],
   "source": [
    "## code to convert to pandas dataframes here\n"
   ]
  },
  {
   "cell_type": "code",
   "execution_count": 147,
   "id": "aca1b579",
   "metadata": {},
   "outputs": [],
   "source": [
    "## code to print list of column names\n"
   ]
  },
  {
   "cell_type": "code",
   "execution_count": 148,
   "id": "b1b50248",
   "metadata": {},
   "outputs": [],
   "source": [
    "#code to remove column here\n"
   ]
  },
  {
   "cell_type": "code",
   "execution_count": 149,
   "id": "8a423c96",
   "metadata": {},
   "outputs": [],
   "source": [
    "# code to rename column here\n"
   ]
  },
  {
   "cell_type": "code",
   "execution_count": 150,
   "id": "953c43c4",
   "metadata": {},
   "outputs": [],
   "source": [
    "# code to create histogram\n"
   ]
  },
  {
   "cell_type": "code",
   "execution_count": 151,
   "id": "c0124b6f",
   "metadata": {},
   "outputs": [],
   "source": [
    "# code to mask table and create new histogram\n"
   ]
  },
  {
   "cell_type": "code",
   "execution_count": 152,
   "id": "3cfd137b",
   "metadata": {},
   "outputs": [],
   "source": [
    "# code to join tables\n"
   ]
  },
  {
   "cell_type": "code",
   "execution_count": 153,
   "id": "a47f66e5",
   "metadata": {},
   "outputs": [],
   "source": [
    "# code to investigate lengths\n"
   ]
  },
  {
   "cell_type": "code",
   "execution_count": 155,
   "id": "0e2e02fb",
   "metadata": {},
   "outputs": [
    {
     "ename": "NameError",
     "evalue": "name 'group_by' is not defined",
     "output_type": "error",
     "traceback": [
      "\u001b[0;31m---------------------------------------------------------------------------\u001b[0m",
      "\u001b[0;31mNameError\u001b[0m                                 Traceback (most recent call last)",
      "\u001b[0;32m/var/folders/xj/0mk4jn0d0x1dh7w33nl5g1740000gp/T/ipykernel_40064/3798342886.py\u001b[0m in \u001b[0;36m<module>\u001b[0;34m\u001b[0m\n\u001b[0;32m----> 1\u001b[0;31m \u001b[0mgroup_by\u001b[0m\u001b[0;34m(\u001b[0m\u001b[0mname\u001b[0m\u001b[0;34m)\u001b[0m\u001b[0;34m\u001b[0m\u001b[0;34m\u001b[0m\u001b[0m\n\u001b[0m",
      "\u001b[0;31mNameError\u001b[0m: name 'group_by' is not defined"
     ]
    }
   ],
   "source": [
    "group_by(name)"
   ]
  },
  {
   "cell_type": "code",
   "execution_count": 158,
   "id": "55360772",
   "metadata": {},
   "outputs": [
    {
     "data": {
      "text/html": [
       "<div><i>Table length=3</i>\n",
       "<table id=\"table4788762608\" class=\"table-striped table-bordered table-condensed\">\n",
       "<thead><tr><th>firstname</th><th>name</th><th>tel</th></tr></thead>\n",
       "<thead><tr><th>str4</th><th>str7</th><th>int64</th></tr></thead>\n",
       "<tr><td>Max</td><td>Miller</td><td>12</td></tr>\n",
       "<tr><td>John</td><td>Jackson</td><td>18</td></tr>\n",
       "<tr><td>Jo</td><td>Miller</td><td>15</td></tr>\n",
       "</table></div>"
      ],
      "text/plain": [
       "<Table length=3>\n",
       "firstname   name   tel \n",
       "   str4     str7  int64\n",
       "--------- ------- -----\n",
       "      Max  Miller    12\n",
       "     John Jackson    18\n",
       "       Jo  Miller    15"
      ]
     },
     "execution_count": 158,
     "metadata": {},
     "output_type": "execute_result"
    }
   ],
   "source": [
    "t"
   ]
  },
  {
   "cell_type": "code",
   "execution_count": 159,
   "id": "e61e020b",
   "metadata": {},
   "outputs": [],
   "source": [
    "t2 = Table()\n",
    "t2['name'] = ['larry', 'moe', 'groucho']\n",
    "t2['flux2'] = [1.4, 3.5, 8.6]"
   ]
  },
  {
   "cell_type": "code",
   "execution_count": 160,
   "id": "8361ecfb",
   "metadata": {},
   "outputs": [
    {
     "ename": "NameError",
     "evalue": "name 'join' is not defined",
     "output_type": "error",
     "traceback": [
      "\u001b[0;31m---------------------------------------------------------------------------\u001b[0m",
      "\u001b[0;31mNameError\u001b[0m                                 Traceback (most recent call last)",
      "\u001b[0;32m/var/folders/xj/0mk4jn0d0x1dh7w33nl5g1740000gp/T/ipykernel_40064/2129405901.py\u001b[0m in \u001b[0;36m<module>\u001b[0;34m\u001b[0m\n\u001b[0;32m----> 1\u001b[0;31m \u001b[0mt3\u001b[0m \u001b[0;34m=\u001b[0m \u001b[0mjoin\u001b[0m\u001b[0;34m(\u001b[0m\u001b[0mt\u001b[0m\u001b[0;34m,\u001b[0m \u001b[0mt2\u001b[0m\u001b[0;34m,\u001b[0m \u001b[0mkeys\u001b[0m\u001b[0;34m=\u001b[0m\u001b[0;34m[\u001b[0m\u001b[0;34m'name'\u001b[0m\u001b[0;34m]\u001b[0m\u001b[0;34m,\u001b[0m \u001b[0mjoin_type\u001b[0m\u001b[0;34m=\u001b[0m\u001b[0;34m'outer'\u001b[0m\u001b[0;34m)\u001b[0m\u001b[0;34m\u001b[0m\u001b[0;34m\u001b[0m\u001b[0m\n\u001b[0m\u001b[1;32m      2\u001b[0m \u001b[0mprint\u001b[0m\u001b[0;34m(\u001b[0m\u001b[0mt3\u001b[0m\u001b[0;34m)\u001b[0m\u001b[0;34m\u001b[0m\u001b[0;34m\u001b[0m\u001b[0m\n",
      "\u001b[0;31mNameError\u001b[0m: name 'join' is not defined"
     ]
    }
   ],
   "source": [
    "t3 = join(t, t2, keys=['name'], join_type='outer')\n",
    "print(t3)"
   ]
  },
  {
   "cell_type": "code",
   "execution_count": null,
   "id": "fa9e4bf0",
   "metadata": {},
   "outputs": [],
   "source": []
  }
 ],
 "metadata": {
  "kernelspec": {
   "display_name": "Python 3 (ipykernel)",
   "language": "python",
   "name": "python3"
  },
  "language_info": {
   "codemirror_mode": {
    "name": "ipython",
    "version": 3
   },
   "file_extension": ".py",
   "mimetype": "text/x-python",
   "name": "python",
   "nbconvert_exporter": "python",
   "pygments_lexer": "ipython3",
   "version": "3.9.13"
  }
 },
 "nbformat": 4,
 "nbformat_minor": 5
}
